{
 "cells": [
  {
   "cell_type": "code",
   "execution_count": 46,
   "id": "806d7c52-d32d-44d6-80f4-f58f3c240b34",
   "metadata": {},
   "outputs": [
    {
     "name": "stdout",
     "output_type": "stream",
     "text": [
      "200\n"
     ]
    }
   ],
   "source": [
    "import requests\n",
    "import twder\n",
    "\n",
    "token=\"Uf9VeDaykttgGIcplWv1wCbHy1luteu2nzOf6xgMZZ4\"\n",
    "headers = {\n",
    "        \"Authorization\": \"Bearer \" + token,\n",
    "        \"Content-Type\": \"application/x-www-form-urlencoded\"\n",
    "    }\n",
    "title=\"時間  \"\"現金買入  \"+\"現金賣出  \"+\"即期買入  \"+\"即期賣出  \"+\"\\n\"\n",
    "jpy=\"日幣 \"+str(twder.now('JPY'))+\"  \\n\"\n",
    "usd=\"美金 \"+str(twder.now('USD'))+\"  \\n\"\n",
    "gbp=\"英鎊 \"+str(twder.now('GBP'))+\"  \\n\"\n",
    "message=title+jpy+usd+gbp\n",
    "params = {\"message\": \"目前牌告匯率\\n \"+message}\n",
    "r = requests.post(\"https://notify-api.line.me/api/notify\",\n",
    "                      headers=headers, params=params)\n",
    "print(r.status_code)  #200"
   ]
  },
  {
   "cell_type": "code",
   "execution_count": 9,
   "id": "750c69aa-eb51-48c4-a022-36a2db19fb57",
   "metadata": {},
   "outputs": [
    {
     "name": "stdout",
     "output_type": "stream",
     "text": [
      "Collecting twder\n",
      "  Downloading twder-0.2.2-py3-none-any.whl (4.5 kB)\n",
      "Requirement already satisfied: lxml in ./opt/anaconda3/lib/python3.9/site-packages (from twder) (4.8.0)\n",
      "Installing collected packages: twder\n",
      "Successfully installed twder-0.2.2\n"
     ]
    }
   ],
   "source": [
    "!pip install twder"
   ]
  },
  {
   "cell_type": "code",
   "execution_count": 11,
   "id": "7afdf0ce-9b97-476b-aecd-6e17baf3f736",
   "metadata": {},
   "outputs": [
    {
     "data": {
      "text/plain": [
       "('2022/11/21 10:52', '0.2131', '0.2259', '0.2204', '0.2244')"
      ]
     },
     "execution_count": 11,
     "metadata": {},
     "output_type": "execute_result"
    }
   ],
   "source": [
    "twder.now('JPY')"
   ]
  },
  {
   "cell_type": "code",
   "execution_count": 13,
   "id": "bdbf2a9d-c691-4b66-99f2-dc8f9eb04500",
   "metadata": {},
   "outputs": [],
   "source": [
    "import pandas as pd"
   ]
  },
  {
   "cell_type": "code",
   "execution_count": 18,
   "id": "993bd84e-bcd5-4e21-9b40-545952ac3463",
   "metadata": {},
   "outputs": [],
   "source": []
  },
  {
   "cell_type": "code",
   "execution_count": 21,
   "id": "e18e95dc-088b-44d5-a214-128e0595a97e",
   "metadata": {},
   "outputs": [],
   "source": [
    "df=pd.DataFrame([twder.now('JPY'),twder.now('USD'),twder.now('GBP')])\n",
    "df.columns=[\"時間\", \"現金買入\", \"現金賣出\", \"即期買入\", \"即期賣出\"]\n",
    "t=df.astype(str)"
   ]
  },
  {
   "cell_type": "code",
   "execution_count": null,
   "id": "b5d6c8e8-8f6c-460b-ab35-1a72c70ea4fb",
   "metadata": {},
   "outputs": [],
   "source": []
  },
  {
   "cell_type": "code",
   "execution_count": null,
   "id": "cee50cbe-f556-4dd4-a042-d539a08ab36e",
   "metadata": {},
   "outputs": [],
   "source": []
  },
  {
   "cell_type": "code",
   "execution_count": null,
   "id": "746a63d8-7e3d-4ae5-bf97-c307fbdda400",
   "metadata": {},
   "outputs": [],
   "source": []
  },
  {
   "cell_type": "code",
   "execution_count": null,
   "id": "d47e3de7-af39-4052-9a5c-6a01ca027ce7",
   "metadata": {},
   "outputs": [],
   "source": []
  },
  {
   "cell_type": "code",
   "execution_count": null,
   "id": "0c678b72-cda1-4e1b-abd6-688ba962aeae",
   "metadata": {},
   "outputs": [],
   "source": []
  },
  {
   "cell_type": "code",
   "execution_count": null,
   "id": "cc4e7d62-3242-4872-8d77-4d93efcdbaa1",
   "metadata": {},
   "outputs": [],
   "source": []
  },
  {
   "cell_type": "code",
   "execution_count": null,
   "id": "3727b2ec-4aa8-429d-88c9-563751d31794",
   "metadata": {},
   "outputs": [],
   "source": []
  },
  {
   "cell_type": "code",
   "execution_count": null,
   "id": "aa2c9130-40ee-42da-a9c9-6007782e3c4e",
   "metadata": {},
   "outputs": [],
   "source": []
  }
 ],
 "metadata": {
  "kernelspec": {
   "display_name": "Python 3 (ipykernel)",
   "language": "python",
   "name": "python3"
  },
  "language_info": {
   "codemirror_mode": {
    "name": "ipython",
    "version": 3
   },
   "file_extension": ".py",
   "mimetype": "text/x-python",
   "name": "python",
   "nbconvert_exporter": "python",
   "pygments_lexer": "ipython3",
   "version": "3.9.12"
  }
 },
 "nbformat": 4,
 "nbformat_minor": 5
}

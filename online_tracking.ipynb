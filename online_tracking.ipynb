{
 "cells": [
  {
   "cell_type": "code",
   "execution_count": null,
   "id": "6aedfca4",
   "metadata": {},
   "outputs": [],
   "source": []
  },
  {
   "cell_type": "code",
   "execution_count": null,
   "id": "d331e54a",
   "metadata": {},
   "outputs": [],
   "source": []
  },
  {
   "cell_type": "code",
   "execution_count": null,
   "id": "c95a2f92",
   "metadata": {},
   "outputs": [],
   "source": []
  },
  {
   "cell_type": "code",
   "execution_count": null,
   "id": "967947e1",
   "metadata": {},
   "outputs": [],
   "source": []
  },
  {
   "cell_type": "code",
   "execution_count": 5,
   "id": "2777410a",
   "metadata": {},
   "outputs": [
    {
     "name": "stderr",
     "output_type": "stream",
     "text": [
      "C:\\Users\\starg\\AppData\\Local\\Temp\\ipykernel_54552\\3059966225.py:34: DeprecationWarning: executable_path has been deprecated, please pass in a Service object\n",
      "  driver = webdriver.Chrome(executable_path=path,chrome_options=chrome_options) #套用設定\n",
      "C:\\Users\\starg\\AppData\\Local\\Temp\\ipykernel_54552\\3059966225.py:34: DeprecationWarning: use options instead of chrome_options\n",
      "  driver = webdriver.Chrome(executable_path=path,chrome_options=chrome_options) #套用設定\n"
     ]
    }
   ],
   "source": [
    "def time_handle(x):\n",
    "    year=datetime.now().year\n",
    "    month=datetime.now().month\n",
    "    date=datetime.now().day\n",
    "    if \"PM\" in x:\n",
    "        new=datetime.strptime(x,\"%I:%M %p\")\n",
    "\n",
    "        return datetime(year,month,date,new.hour,new.minute)\n",
    "    elif \"AM\" in x:\n",
    "        new=datetime.strptime(x,\"%I:%M %p\")\n",
    "\n",
    "        return datetime(year,month,date,new.hour,new.minute)\n",
    "    else:\n",
    "        return(datetime.strptime(x,\"%Y-%m-%d\"))\n",
    "from bs4 import BeautifulSoup\n",
    "from urllib.parse import unquote\n",
    "from selenium import webdriver\n",
    "from selenium.webdriver.common.by import By\n",
    "import time\n",
    "from selenium.webdriver.chrome.options import Options\n",
    "from selenium_stealth import stealth\n",
    "from datetime import datetime\n",
    "import os\n",
    "import pandas as pd\n",
    "import discord\n",
    "#need to add user profile\n",
    "path=\"C:\\\\Users\\\\starg\\\\Downloads\\\\chromedriver.exe\"\n",
    "chrome_options = Options()\n",
    "chrome_options.add_argument('--headless')  # 啟動Headless 無頭\n",
    "chrome_options.add_argument('--disable-gpu') #關閉GPU 避免某些系統或是網頁出錯\n",
    "chrome_options.add_argument('user-data-dir=C:\\\\Users\\\\starg\\\\AppData\\\\Local\\\\Google\\\\Chrome\\\\User Data\\\\')\n",
    "chrome_options.add_argument('--profile-directory=Profile 1')\n",
    "url=\"https://ai.finlab.tw/strategies/?tab=FinLab%E7%AD%96%E7%95%A5\"\n",
    "driver = webdriver.Chrome(executable_path=path,chrome_options=chrome_options) #套用設定\n",
    "from discord import SyncWebhook\n",
    "import logging\n",
    "logging.basicConfig(filename='stockrecord.log', encoding='utf-8', level=logging.DEBUG)\n",
    "webhook = SyncWebhook.from_url(\"https://discord.com/api/webhooks/1013822114094141532/wf9PMwRT0Cq7LFfdlgyydbcLIhjPT_ITxxlj0A3u8B4vYxpTJgiw-oThhq1d-zprqgab\")"
   ]
  },
  {
   "cell_type": "code",
   "execution_count": null,
   "id": "8bb4ccb2",
   "metadata": {
    "scrolled": true
   },
   "outputs": [],
   "source": [
    "from urllib.parse import unquote\n",
    "while True:\n",
    "    website=[\n",
    "    \"https://ai.finlab.tw/strategyview/?uid=TJN4FDuqrwU8DML7DAjUYFIMutp2&sid=%E5%90%89%E5%A8%83%E5%A8%83\",\n",
    "\"https://ai.finlab.tw/strategyview/?uid=TJN4FDuqrwU8DML7DAjUYFIMutp2&sid=%E8%97%8F%E7%8D%92\",\n",
    "\"https://ai.finlab.tw/strategyview/?uid=TJN4FDuqrwU8DML7DAjUYFIMutp2&sid=%E7%87%9F%E6%94%B6%E5%BC%B7%E5%8B%A2%E5%8B%95%E8%83%BD%E7%98%8B%E7%8B%97\",\n",
    "\"https://ai.finlab.tw/strategyview/?uid=TJN4FDuqrwU8DML7DAjUYFIMutp2&sid=%E8%82%AF%E7%89%B9%E7%B4%8D%E9%80%9A%E9%81%93%E7%AA%81%E7%A0%B4\",\n",
    "\"https://ai.finlab.tw/strategyview/?uid=TJN4FDuqrwU8DML7DAjUYFIMutp2&sid=%E5%B0%8F%E8%B3%87%E6%97%8F%E8%B3%87%E5%84%AA%E7%94%9F%E7%AD%96%E7%95%A5\",\n",
    "\"https://ai.finlab.tw/strategyview/?uid=TJN4FDuqrwU8DML7DAjUYFIMutp2&sid=%E7%8F%BE%E9%87%91%E6%B5%81%E5%83%B9%E5%80%BC%E6%88%90%E9%95%B7\",\n",
    "\"https://ai.finlab.tw/strategyview/?uid=TJN4FDuqrwU8DML7DAjUYFIMutp2&sid=%E5%B0%8F%E8%9D%A6%E7%B1%B3%E8%B7%9F%E5%A4%A7%E9%AF%A8%E9%AD%9A\"\n",
    "\"https://ai.finlab.tw/strategyview/?uid=TJN4FDuqrwU8DML7DAjUYFIMutp2&sid=%E4%BD%8E%E6%B3%A2%E5%8B%95%E6%9C%AC%E7%9B%8A%E6%88%90%E9%95%B7%E6%AF%94\",\n",
    "\"https://ai.finlab.tw/strategyview/?uid=TJN4FDuqrwU8DML7DAjUYFIMutp2&sid=%E7%A0%94%E7%99%BC%E9%AD%94%E4%BA%BA\",\n",
    "\"https://ai.finlab.tw/strategyview/?uid=TJN4FDuqrwU8DML7DAjUYFIMutp2&sid=%E4%B8%89%E9%A0%BB%E7%8E%87RSI%E7%AD%96%E7%95%A5\",\n",
    "\"https://ai.finlab.tw/strategyview/?uid=TJN4FDuqrwU8DML7DAjUYFIMutp2&sid=%E6%9C%AC%E7%9B%8A%E6%88%90%E9%95%B7%E6%AF%94\",\n",
    "\"https://ai.finlab.tw/strategyview/?uid=TJN4FDuqrwU8DML7DAjUYFIMutp2&sid=%E9%AB%98%E6%AE%96%E5%88%A9%E7%8E%87%E7%83%8F%E9%BE%9C\",\n",
    "\"https://ai.finlab.tw/strategyview/?uid=TJN4FDuqrwU8DML7DAjUYFIMutp2&sid=%E8%82%A1%E5%83%B9%E6%B7%A8%E5%80%BC%E6%AF%94%E7%AD%96%E7%95%A5\",\n",
    "\"https://ai.finlab.tw/strategyview/?uid=TJN4FDuqrwU8DML7DAjUYFIMutp2&sid=%E4%BA%8C%E6%AC%A1%E5%89%B5%E9%AB%98%E8%82%A1%E7%A5%A8\",\n",
    "\"https://ai.finlab.tw/strategyview/?uid=TJN4FDuqrwU8DML7DAjUYFIMutp2&sid=%E6%8A%95%E4%BF%A1%E5%A4%A7%E5%93%A5%E8%B7%9F%E5%B1%81%E8%9F%B2\",\n",
    "\"https://ai.finlab.tw/strategyview/?uid=TJN4FDuqrwU8DML7DAjUYFIMutp2&sid=%E5%90%88%E7%B4%84%E8%B2%A0%E5%82%B5%E5%BB%BA%E7%AF%89%E5%B7%A5\",\n",
    "\"https://ai.finlab.tw/strategyview/?uid=TJN4FDuqrwU8DML7DAjUYFIMutp2&sid=%E5%8F%B0%E8%82%A1%E7%B8%BD%E9%AB%94%E7%B6%93%E6%BF%9FETF\",\n",
    "\"https://ai.finlab.tw/strategyview/?uid=TJN4FDuqrwU8DML7DAjUYFIMutp2&sid=%E8%AD%B7%E5%9C%8B%E7%A5%9E%E5%B1%B1%E6%95%91%E9%9B%A3%E9%9A%8A\",\n",
    "\"https://ai.finlab.tw/strategyview/?uid=TJN4FDuqrwU8DML7DAjUYFIMutp2&sid=%E5%B0%8F%E8%9D%A6%E7%B1%B3%E8%B7%9F%E5%A4%A7%E9%AF%A8%E9%AD%9A\",\n",
    "\"https://ai.finlab.tw/strategyview/?uid=TJN4FDuqrwU8DML7DAjUYFIMutp2&sid=%E4%BD%8E%E6%B3%A2%E5%8B%95%E6%9C%AC%E7%9B%8A%E6%88%90%E9%95%B7%E6%AF%94\",\n",
    "\"https://ai.finlab.tw/strategyview/?uid=TJN4FDuqrwU8DML7DAjUYFIMutp2&sid=%E7%8F%BE%E9%87%91%E6%B5%81%E5%83%B9%E5%80%BC%E6%88%90%E9%95%B7\"\n",
    "    ]\n",
    "    for i in range(0,len(website)):\n",
    "        try:\n",
    "            driver.get(website[i])\n",
    "            time.sleep(20)\n",
    "            table_text=driver.find_element(By.XPATH,\"/html/body/div/div/div/div/div[2]/div/div/div[3]/div/div[1]/div/div[1]/table\").text.split(\"\\n\")[1:]\n",
    "            df=pd.DataFrame(table_text)\n",
    "            #print(df)\n",
    "            #print(\"read sucess\")                    \n",
    "            tn=unquote(website[i].split(\"=\")[2])\n",
    "            #print(\"fetch sucess\")\n",
    "            if tn+\".csv\" not in os.listdir(\"C:\\\\Users\\\\starg\\\\pythonfinance\\\\stock_list\"):\n",
    "                df.to_csv(\"C:\\\\Users\\\\starg\\\\pythonfinance\\\\stock_list\\\\\"+tn+\".csv\")\n",
    "            else:\n",
    "                adf=pd.read_csv(\"C:\\\\Users\\\\starg\\\\pythonfinance\\\\stock_list\\\\\"+tn+\".csv\",index_col=0)\n",
    "                empty=[]\n",
    "                for k in adf[adf.columns[0]]:\n",
    "                    empty.append(k)\n",
    "                #print(\"adf load success\")\n",
    "                for j in df[df.columns[0]]:\n",
    "                    if j not in empty:\n",
    "                        message=str(datetime.now())+\"  \"+\"更新\"+\"  \"+tn+\"   \"+j\n",
    "                        webhook.send(message)\n",
    "            df.to_csv(\"C:\\\\Users\\\\starg\\\\pythonfinance\\\\stock_list\\\\\"+tn+\".csv\")\n",
    "            logm=tn+\" finish scan  \"+str(datetime.now())\n",
    "            logging.debug(logm)\n",
    "        except:\n",
    "            logm=tn+\"failed\"+str(datetime.now())\n",
    "            logging.debug(logm)\n",
    "        time.sleep(10)\n",
    "    time.sleep(600)\n",
    "            "
   ]
  },
  {
   "cell_type": "code",
   "execution_count": 1,
   "id": "745a8fbc",
   "metadata": {},
   "outputs": [],
   "source": []
  },
  {
   "cell_type": "code",
   "execution_count": 2,
   "id": "e9b184d0",
   "metadata": {},
   "outputs": [],
   "source": []
  },
  {
   "cell_type": "code",
   "execution_count": null,
   "id": "65d122d6",
   "metadata": {},
   "outputs": [],
   "source": []
  },
  {
   "cell_type": "code",
   "execution_count": null,
   "id": "70e1780c",
   "metadata": {},
   "outputs": [],
   "source": []
  },
  {
   "cell_type": "code",
   "execution_count": null,
   "id": "e2607cfc",
   "metadata": {},
   "outputs": [],
   "source": []
  },
  {
   "cell_type": "code",
   "execution_count": null,
   "id": "5c4df3fd",
   "metadata": {},
   "outputs": [],
   "source": []
  },
  {
   "cell_type": "code",
   "execution_count": null,
   "id": "5f924082",
   "metadata": {},
   "outputs": [],
   "source": []
  },
  {
   "cell_type": "code",
   "execution_count": null,
   "id": "7666bce6",
   "metadata": {},
   "outputs": [],
   "source": []
  },
  {
   "cell_type": "code",
   "execution_count": null,
   "id": "b7b2f231",
   "metadata": {},
   "outputs": [],
   "source": []
  },
  {
   "cell_type": "code",
   "execution_count": null,
   "id": "ffb45e29",
   "metadata": {},
   "outputs": [],
   "source": []
  },
  {
   "cell_type": "code",
   "execution_count": null,
   "id": "74d4a8f2",
   "metadata": {},
   "outputs": [],
   "source": []
  },
  {
   "cell_type": "code",
   "execution_count": null,
   "id": "39020d3f",
   "metadata": {},
   "outputs": [],
   "source": []
  },
  {
   "cell_type": "code",
   "execution_count": null,
   "id": "794e28a5",
   "metadata": {},
   "outputs": [],
   "source": []
  },
  {
   "cell_type": "code",
   "execution_count": null,
   "id": "6357e189",
   "metadata": {},
   "outputs": [],
   "source": []
  },
  {
   "cell_type": "code",
   "execution_count": null,
   "id": "269ae26d",
   "metadata": {},
   "outputs": [],
   "source": []
  },
  {
   "cell_type": "code",
   "execution_count": null,
   "id": "37ef4220",
   "metadata": {},
   "outputs": [],
   "source": []
  },
  {
   "cell_type": "code",
   "execution_count": null,
   "id": "d2bfd9c6",
   "metadata": {},
   "outputs": [],
   "source": []
  },
  {
   "cell_type": "code",
   "execution_count": null,
   "id": "1badee3b",
   "metadata": {},
   "outputs": [],
   "source": []
  },
  {
   "cell_type": "code",
   "execution_count": null,
   "id": "9f83adb6",
   "metadata": {},
   "outputs": [],
   "source": []
  },
  {
   "cell_type": "code",
   "execution_count": null,
   "id": "71483f84",
   "metadata": {},
   "outputs": [],
   "source": []
  },
  {
   "cell_type": "code",
   "execution_count": null,
   "id": "67be5b0b",
   "metadata": {},
   "outputs": [],
   "source": []
  },
  {
   "cell_type": "code",
   "execution_count": null,
   "id": "4eb5fef4",
   "metadata": {},
   "outputs": [],
   "source": []
  }
 ],
 "metadata": {
  "kernelspec": {
   "display_name": "Python 3 (ipykernel)",
   "language": "python",
   "name": "python3"
  },
  "language_info": {
   "codemirror_mode": {
    "name": "ipython",
    "version": 3
   },
   "file_extension": ".py",
   "mimetype": "text/x-python",
   "name": "python",
   "nbconvert_exporter": "python",
   "pygments_lexer": "ipython3",
   "version": "3.9.12"
  }
 },
 "nbformat": 4,
 "nbformat_minor": 5
}

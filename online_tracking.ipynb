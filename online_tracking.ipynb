{
 "cells": [
  {
   "cell_type": "code",
   "execution_count": 1,
   "id": "6aedfca4",
   "metadata": {},
   "outputs": [],
   "source": [
    "import requests"
   ]
  },
  {
   "cell_type": "code",
   "execution_count": 4,
   "id": "d331e54a",
   "metadata": {},
   "outputs": [],
   "source": [
    "x=requests.get(\"https://ai.finlab.tw/strategies/?tab=FinLab%E7%AD%96%E7%95%A5\")"
   ]
  },
  {
   "cell_type": "code",
   "execution_count": 72,
   "id": "c95a2f92",
   "metadata": {},
   "outputs": [],
   "source": [
    "from selenium import webdriver\n",
    "from selenium.webdriver.common.by import By\n",
    "import time\n",
    "from selenium.webdriver.chrome.options import Options\n",
    "from selenium_stealth import stealth\n",
    "#need to add user profile"
   ]
  },
  {
   "cell_type": "code",
   "execution_count": 31,
   "id": "967947e1",
   "metadata": {},
   "outputs": [],
   "source": [
    "path=\"/Users/johnny.wu/pythonfinance/chromedriver\""
   ]
  },
  {
   "cell_type": "code",
   "execution_count": 73,
   "id": "2777410a",
   "metadata": {},
   "outputs": [],
   "source": [
    "chrome_options = Options() \n",
    "chrome_options.add_argument('--disable-gpu') #關閉GPU 避免某些系統或是網頁出錯\n",
    "stealth(driver,\n",
    "        languages=[\"en-US\", \"en\"],\n",
    "        vendor=\"Google Inc.\",\n",
    "        platform=\"Win32\",\n",
    "        webgl_vendor=\"Intel Inc.\",\n",
    "        renderer=\"Intel Iris OpenGL Engine\",\n",
    "        fix_hairline=True,\n",
    "        )"
   ]
  },
  {
   "cell_type": "code",
   "execution_count": 74,
   "id": "8bb4ccb2",
   "metadata": {},
   "outputs": [
    {
     "name": "stderr",
     "output_type": "stream",
     "text": [
      "/var/folders/cx/tnz2rb316v91zf_fxmk_l_sdlq_qwb/T/ipykernel_79235/748550829.py:2: DeprecationWarning: executable_path has been deprecated, please pass in a Service object\n",
      "  driver = webdriver.Chrome(executable_path=path,chrome_options=chrome_options) #套用設定\n",
      "/var/folders/cx/tnz2rb316v91zf_fxmk_l_sdlq_qwb/T/ipykernel_79235/748550829.py:2: DeprecationWarning: use options instead of chrome_options\n",
      "  driver = webdriver.Chrome(executable_path=path,chrome_options=chrome_options) #套用設定\n"
     ]
    }
   ],
   "source": [
    "url=\"https://ai.finlab.tw/strategies/?tab=FinLab%E7%AD%96%E7%95%A5\"\n",
    "driver = webdriver.Chrome(executable_path=path,chrome_options=chrome_options) #套用設定\n"
   ]
  },
  {
   "cell_type": "code",
   "execution_count": 75,
   "id": "745a8fbc",
   "metadata": {},
   "outputs": [],
   "source": [
    "driver.get(\"https://ai.finlab.tw/strategies/?tab=FinLab%E7%AD%96%E7%95%A5\")\n",
    "time.sleep(3)\n",
    "x=driver.find_element(By.XPATH,\"/html/body/div/div/div/div[1]/div[2]/div/div/div[1]/div[2]/div[2]/div[4]/table/tbody/tr[2]/td[1]/a\")"
   ]
  },
  {
   "cell_type": "code",
   "execution_count": 76,
   "id": "e9b184d0",
   "metadata": {},
   "outputs": [],
   "source": [
    "time.sleep(2)\n",
    "x.click()"
   ]
  },
  {
   "cell_type": "code",
   "execution_count": 59,
   "id": "65d122d6",
   "metadata": {},
   "outputs": [
    {
     "data": {
      "text/plain": [
       "<selenium.webdriver.remote.webelement.WebElement (session=\"ad920d15f46bf884e19a710fe3f16270\", element=\"2637fcbe-a435-4ff0-a6a8-9b06abfcbe3b\")>"
      ]
     },
     "execution_count": 59,
     "metadata": {},
     "output_type": "execute_result"
    }
   ],
   "source": [
    "driver.find_element(By.XPATH,\"/html/body/div/div/div/div[1]/div[2]/div/div/div[1]/div[2]/div[2]/div[4]/table/tbody/tr[1]/td[1]\")"
   ]
  },
  {
   "cell_type": "code",
   "execution_count": null,
   "id": "70e1780c",
   "metadata": {},
   "outputs": [],
   "source": []
  },
  {
   "cell_type": "code",
   "execution_count": null,
   "id": "e2607cfc",
   "metadata": {},
   "outputs": [],
   "source": []
  }
 ],
 "metadata": {
  "kernelspec": {
   "display_name": "Python 3 (ipykernel)",
   "language": "python",
   "name": "python3"
  },
  "language_info": {
   "codemirror_mode": {
    "name": "ipython",
    "version": 3
   },
   "file_extension": ".py",
   "mimetype": "text/x-python",
   "name": "python",
   "nbconvert_exporter": "python",
   "pygments_lexer": "ipython3",
   "version": "3.9.12"
  }
 },
 "nbformat": 4,
 "nbformat_minor": 5
}

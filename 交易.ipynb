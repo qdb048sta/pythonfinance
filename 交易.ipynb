{
 "cells": [
  {
   "cell_type": "code",
   "execution_count": null,
   "id": "c7be6856",
   "metadata": {},
   "outputs": [],
   "source": []
  },
  {
   "cell_type": "code",
   "execution_count": 4,
   "id": "7c7c2468",
   "metadata": {},
   "outputs": [
    {
     "name": "stdout",
     "output_type": "stream",
     "text": [
      "20220101\n",
      "https://www.twse.com.tw/exchangeReport/STOCK_DAY?response=html&date=20220101&stockNo=0050\n",
      "1\n",
      "20220201\n",
      "https://www.twse.com.tw/exchangeReport/STOCK_DAY?response=html&date=20220201&stockNo=0050\n",
      "2\n",
      "20220301\n",
      "https://www.twse.com.tw/exchangeReport/STOCK_DAY?response=html&date=20220301&stockNo=0050\n",
      "3\n",
      "20220401\n",
      "https://www.twse.com.tw/exchangeReport/STOCK_DAY?response=html&date=20220401&stockNo=0050\n",
      "4\n",
      "20220501\n",
      "https://www.twse.com.tw/exchangeReport/STOCK_DAY?response=html&date=20220501&stockNo=0050\n"
     ]
    },
    {
     "ename": "KeyboardInterrupt",
     "evalue": "",
     "output_type": "error",
     "traceback": [
      "\u001b[0;31m---------------------------------------------------------------------------\u001b[0m",
      "\u001b[0;31mKeyboardInterrupt\u001b[0m                         Traceback (most recent call last)",
      "\u001b[1;32m/Users/johnny.wu/pythonfinance/交易.ipynb Cell 2'\u001b[0m in \u001b[0;36m<cell line: 17>\u001b[0;34m()\u001b[0m\n\u001b[1;32m     <a href='vscode-notebook-cell:/Users/johnny.wu/pythonfinance/%E4%BA%A4%E6%98%93.ipynb#ch0000001?line=48'>49</a>\u001b[0m \u001b[39mexcept\u001b[39;00m:\n\u001b[1;32m     <a href='vscode-notebook-cell:/Users/johnny.wu/pythonfinance/%E4%BA%A4%E6%98%93.ipynb#ch0000001?line=49'>50</a>\u001b[0m     \u001b[39mprint\u001b[39m(\u001b[39m\"\u001b[39m\u001b[39mno table\u001b[39m\u001b[39m\"\u001b[39m)\n\u001b[0;32m---> <a href='vscode-notebook-cell:/Users/johnny.wu/pythonfinance/%E4%BA%A4%E6%98%93.ipynb#ch0000001?line=50'>51</a>\u001b[0m time\u001b[39m.\u001b[39;49msleep(\u001b[39m5\u001b[39;49m)\n\u001b[1;32m     <a href='vscode-notebook-cell:/Users/johnny.wu/pythonfinance/%E4%BA%A4%E6%98%93.ipynb#ch0000001?line=51'>52</a>\u001b[0m \u001b[39mprint\u001b[39m(month_num)\n\u001b[1;32m     <a href='vscode-notebook-cell:/Users/johnny.wu/pythonfinance/%E4%BA%A4%E6%98%93.ipynb#ch0000001?line=52'>53</a>\u001b[0m \u001b[39mif\u001b[39;00m month_num\u001b[39m==\u001b[39m\u001b[39m12\u001b[39m:\n",
      "\u001b[0;31mKeyboardInterrupt\u001b[0m: "
     ]
    }
   ],
   "source": [
    "import requests\n",
    "import sklearn\n",
    "from io import StringIO\n",
    "import pandas as pd\n",
    "import numpy as np\n",
    "import time\n",
    "from datetime import datetime\n",
    "import twstock\n",
    "import datetime as dt\n",
    "total=[]\n",
    "for i in twstock.codes:\n",
    "    total.append(twstock.codes[i])\n",
    "df=pd.DataFrame(total)\n",
    "df2=df[(df[\"market\"]==\"上市\") & ((df[\"type\"]==\"ETF\")|(df[\"type\"]==\"臺灣存託憑證(TDR)\")|(df[\"type\"]==\"受益證券-不動產投資信託\"))]\n",
    "subdf=df2[df2[\"market\"]==\"上市\"]\n",
    "for i in subdf[\"code\"]:\n",
    "    year_num=2022\n",
    "    month_num=1\n",
    "    date=datetime(year_num,month_num,1)\n",
    "    while date<datetime(2022,7,1):\n",
    "        date_code=\"\"\n",
    "        date_code=date_code+str(date.year)\n",
    "        month=str(date.month)\n",
    "        if len(month)==1:\n",
    "            month=\"0\"+month\n",
    "        date_code=date_code+month\n",
    "        day=str(date.day)\n",
    "        if len(day)==1:\n",
    "            day=\"0\"+day\n",
    "        date_code=date_code+day\n",
    "        print(date_code)\n",
    "        print(\"https://www.twse.com.tw/exchangeReport/STOCK_DAY?response=html&date=\"+date_code+\"&stockNo=\"+i)\n",
    "        try:\n",
    "            requests.get(\"https://www.twse.com.tw/exchangeReport/STOCK_DAY?response=html&date=\"+date_code+\"&stockNo=\"+i)\n",
    "            status=True\n",
    "        except:\n",
    "            print(\"currently sleeping\")\n",
    "            status=False\n",
    "            time.sleep(600)\n",
    "            print(\"revert\")\n",
    "        if status==True:\n",
    "            try:\n",
    "                r=pd.read_html(\"https://www.twse.com.tw/exchangeReport/STOCK_DAY?response=html&date=\"+date_code+\"&stockNo=\"+i)\n",
    "                r[0].to_csv(\"C:\\\\Users\\\\starg\\\\Downloads\\\\TWSE_data\\\\\"+i+\"_\"+date_code+\".csv\")\n",
    "            except:\n",
    "                print(\"no table\")\n",
    "            time.sleep(5)\n",
    "            print(month_num)\n",
    "            if month_num==12:\n",
    "                month_num=1\n",
    "                year_num=year_num+1\n",
    "            else:\n",
    "                 month_num=month_num+1\n",
    "            date=datetime(year_num,month_num,1)\n",
    "        else:\n",
    "            continue\n",
    "            \n",
    "            "
   ]
  },
  {
   "cell_type": "code",
   "execution_count": null,
   "id": "5b5e1870",
   "metadata": {},
   "outputs": [],
   "source": []
  },
  {
   "cell_type": "code",
   "execution_count": null,
   "id": "57b08642",
   "metadata": {},
   "outputs": [],
   "source": []
  },
  {
   "cell_type": "code",
   "execution_count": null,
   "id": "f3c485be",
   "metadata": {},
   "outputs": [],
   "source": []
  },
  {
   "cell_type": "code",
   "execution_count": null,
   "id": "9810ba20",
   "metadata": {},
   "outputs": [],
   "source": []
  },
  {
   "cell_type": "code",
   "execution_count": null,
   "id": "b6039ef4",
   "metadata": {},
   "outputs": [],
   "source": []
  },
  {
   "cell_type": "code",
   "execution_count": null,
   "id": "b7ab9418",
   "metadata": {},
   "outputs": [],
   "source": []
  },
  {
   "cell_type": "code",
   "execution_count": null,
   "id": "2db81785",
   "metadata": {},
   "outputs": [],
   "source": []
  },
  {
   "cell_type": "code",
   "execution_count": null,
   "id": "2676b95a",
   "metadata": {},
   "outputs": [],
   "source": []
  }
 ],
 "metadata": {
  "kernelspec": {
   "display_name": "Python 3.8.2 64-bit",
   "language": "python",
   "name": "python3"
  },
  "language_info": {
   "codemirror_mode": {
    "name": "ipython",
    "version": 3
   },
   "file_extension": ".py",
   "mimetype": "text/x-python",
   "name": "python",
   "nbconvert_exporter": "python",
   "pygments_lexer": "ipython3",
   "version": "3.8.2"
  },
  "vscode": {
   "interpreter": {
    "hash": "31f2aee4e71d21fbe5cf8b01ff0e069b9275f58929596ceb00d14d90e3e16cd6"
   }
  }
 },
 "nbformat": 4,
 "nbformat_minor": 5
}

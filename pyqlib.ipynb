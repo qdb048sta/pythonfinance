{
 "cells": [
  {
   "cell_type": "code",
   "execution_count": null,
   "id": "3e7dffdd",
   "metadata": {},
   "outputs": [],
   "source": [
    "#guide ref\n",
    "#https://qlib.readthedocs.io/en/latest/start/getdata.html\n",
    "#https://qlib.readthedocs.io/en/latest/component/data.html guide ref\n",
    "#should pip install pyqlib"
   ]
  },
  {
   "cell_type": "code",
   "execution_count": 1,
   "id": "98b0dcc6",
   "metadata": {},
   "outputs": [
    {
     "data": {
      "text/plain": [
       "'0.7.2.99'"
      ]
     },
     "execution_count": 1,
     "metadata": {},
     "output_type": "execute_result"
    }
   ],
   "source": [
    "import qlib\n",
    "qlib.__version__"
   ]
  },
  {
   "cell_type": "code",
   "execution_count": 2,
   "id": "948ae305",
   "metadata": {
    "scrolled": false
   },
   "outputs": [
    {
     "name": "stderr",
     "output_type": "stream",
     "text": [
      "[14904:MainThread](2022-07-18 18:00:30,783) INFO - qlib.Initialization - [config.py:386] - default_conf: client.\n",
      "[14904:MainThread](2022-07-18 18:00:33,134) WARNING - qlib.Initialization - [config.py:411] - redis connection failed(host=127.0.0.1 port=6379), DiskExpressionCache and DiskDatasetCache will not be used!\n",
      "[14904:MainThread](2022-07-18 18:00:34,414) INFO - qlib.Initialization - [__init__.py:56] - qlib successfully initialized based on client settings.\n",
      "[14904:MainThread](2022-07-18 18:00:34,416) INFO - qlib.Initialization - [__init__.py:58] - data_path={'__DEFAULT_FREQ': WindowsPath('C:/Users/starg/.qlib/qlib_data/cn_data')}\n"
     ]
    }
   ],
   "source": [
    "import qlib\n",
    "# region in [REG_CN, REG_US]\n",
    "from qlib.config import REG_CN\n",
    "provider_uri = \"~/.qlib/qlib_data/cn_data\"  # target_dir\n",
    "qlib.init(provider_uri=provider_uri, region=REG_CN)\n",
    "\n",
    "####init is required"
   ]
  },
  {
   "cell_type": "code",
   "execution_count": 4,
   "id": "b2c25e20",
   "metadata": {},
   "outputs": [],
   "source": [
    "from qlib.data import D"
   ]
  },
  {
   "cell_type": "code",
   "execution_count": 10,
   "id": "cce5b252",
   "metadata": {},
   "outputs": [],
   "source": [
    "instruments = D.instruments(market='all')\n",
    "tfields = ['$open','$close','$high','$low','$volume', 'Ref($close, 1)', 'Mean($close, 3)', '$high-$low']\n",
    "# this is guide for fetching "
   ]
  },
  {
   "cell_type": "code",
   "execution_count": 11,
   "id": "037c93f2",
   "metadata": {},
   "outputs": [],
   "source": [
    "df=D.features(instruments=instruments,fields=tfields,start_time='2010-01-01', end_time='2010-01-10', freq='day')"
   ]
  },
  {
   "cell_type": "code",
   "execution_count": 12,
   "id": "dc7d8cc5",
   "metadata": {},
   "outputs": [
    {
     "data": {
      "text/html": [
       "<div>\n",
       "<style scoped>\n",
       "    .dataframe tbody tr th:only-of-type {\n",
       "        vertical-align: middle;\n",
       "    }\n",
       "\n",
       "    .dataframe tbody tr th {\n",
       "        vertical-align: top;\n",
       "    }\n",
       "\n",
       "    .dataframe thead th {\n",
       "        text-align: right;\n",
       "    }\n",
       "</style>\n",
       "<table border=\"1\" class=\"dataframe\">\n",
       "  <thead>\n",
       "    <tr style=\"text-align: right;\">\n",
       "      <th></th>\n",
       "      <th></th>\n",
       "      <th>$open</th>\n",
       "      <th>$close</th>\n",
       "      <th>$high</th>\n",
       "      <th>$low</th>\n",
       "      <th>$volume</th>\n",
       "      <th>Ref($close, 1)</th>\n",
       "      <th>Mean($close, 3)</th>\n",
       "      <th>$high-$low</th>\n",
       "    </tr>\n",
       "    <tr>\n",
       "      <th>instrument</th>\n",
       "      <th>datetime</th>\n",
       "      <th></th>\n",
       "      <th></th>\n",
       "      <th></th>\n",
       "      <th></th>\n",
       "      <th></th>\n",
       "      <th></th>\n",
       "      <th></th>\n",
       "      <th></th>\n",
       "    </tr>\n",
       "  </thead>\n",
       "  <tbody>\n",
       "    <tr>\n",
       "      <th rowspan=\"5\" valign=\"top\">SH000300</th>\n",
       "      <th>2010-01-04</th>\n",
       "      <td>3.655379</td>\n",
       "      <td>3.597137</td>\n",
       "      <td>3.660752</td>\n",
       "      <td>3.597137</td>\n",
       "      <td>6.496348e+10</td>\n",
       "      <td>3.638295</td>\n",
       "      <td>3.618871</td>\n",
       "      <td>0.063615</td>\n",
       "    </tr>\n",
       "    <tr>\n",
       "      <th>2010-01-05</th>\n",
       "      <td>3.607271</td>\n",
       "      <td>3.626451</td>\n",
       "      <td>3.640177</td>\n",
       "      <td>3.558909</td>\n",
       "      <td>8.433286e+10</td>\n",
       "      <td>3.597137</td>\n",
       "      <td>3.620628</td>\n",
       "      <td>0.081269</td>\n",
       "    </tr>\n",
       "    <tr>\n",
       "      <th>2010-01-06</th>\n",
       "      <td>3.621018</td>\n",
       "      <td>3.603750</td>\n",
       "      <td>3.651675</td>\n",
       "      <td>3.603181</td>\n",
       "      <td>7.712260e+10</td>\n",
       "      <td>3.626451</td>\n",
       "      <td>3.609113</td>\n",
       "      <td>0.048495</td>\n",
       "    </tr>\n",
       "    <tr>\n",
       "      <th>2010-01-07</th>\n",
       "      <td>3.605206</td>\n",
       "      <td>3.532250</td>\n",
       "      <td>3.620875</td>\n",
       "      <td>3.513233</td>\n",
       "      <td>7.896721e+10</td>\n",
       "      <td>3.603750</td>\n",
       "      <td>3.587484</td>\n",
       "      <td>0.107643</td>\n",
       "    </tr>\n",
       "    <tr>\n",
       "      <th>2010-01-08</th>\n",
       "      <td>3.517445</td>\n",
       "      <td>3.541072</td>\n",
       "      <td>3.543056</td>\n",
       "      <td>3.486706</td>\n",
       "      <td>5.974405e+10</td>\n",
       "      <td>3.532250</td>\n",
       "      <td>3.559024</td>\n",
       "      <td>0.056350</td>\n",
       "    </tr>\n",
       "    <tr>\n",
       "      <th>...</th>\n",
       "      <th>...</th>\n",
       "      <td>...</td>\n",
       "      <td>...</td>\n",
       "      <td>...</td>\n",
       "      <td>...</td>\n",
       "      <td>...</td>\n",
       "      <td>...</td>\n",
       "      <td>...</td>\n",
       "      <td>...</td>\n",
       "    </tr>\n",
       "    <tr>\n",
       "      <th>SZ300038</th>\n",
       "      <th>2010-01-08</th>\n",
       "      <td>1.013889</td>\n",
       "      <td>1.000000</td>\n",
       "      <td>1.041667</td>\n",
       "      <td>0.990278</td>\n",
       "      <td>4.310424e+08</td>\n",
       "      <td>NaN</td>\n",
       "      <td>1.000000</td>\n",
       "      <td>0.051389</td>\n",
       "    </tr>\n",
       "    <tr>\n",
       "      <th>SZ300039</th>\n",
       "      <th>2010-01-08</th>\n",
       "      <td>1.000440</td>\n",
       "      <td>1.000000</td>\n",
       "      <td>1.055189</td>\n",
       "      <td>0.997801</td>\n",
       "      <td>6.103480e+08</td>\n",
       "      <td>NaN</td>\n",
       "      <td>1.000000</td>\n",
       "      <td>0.057388</td>\n",
       "    </tr>\n",
       "    <tr>\n",
       "      <th>SZ300040</th>\n",
       "      <th>2010-01-08</th>\n",
       "      <td>1.028653</td>\n",
       "      <td>1.000000</td>\n",
       "      <td>1.038682</td>\n",
       "      <td>0.993314</td>\n",
       "      <td>3.677801e+08</td>\n",
       "      <td>NaN</td>\n",
       "      <td>1.000000</td>\n",
       "      <td>0.045368</td>\n",
       "    </tr>\n",
       "    <tr>\n",
       "      <th>SZ300041</th>\n",
       "      <th>2010-01-08</th>\n",
       "      <td>1.013149</td>\n",
       "      <td>1.000000</td>\n",
       "      <td>1.034706</td>\n",
       "      <td>0.993749</td>\n",
       "      <td>4.243246e+08</td>\n",
       "      <td>NaN</td>\n",
       "      <td>1.000000</td>\n",
       "      <td>0.040957</td>\n",
       "    </tr>\n",
       "    <tr>\n",
       "      <th>SZ300042</th>\n",
       "      <th>2010-01-08</th>\n",
       "      <td>0.972355</td>\n",
       "      <td>1.000000</td>\n",
       "      <td>1.077216</td>\n",
       "      <td>0.972355</td>\n",
       "      <td>4.582294e+08</td>\n",
       "      <td>NaN</td>\n",
       "      <td>1.000000</td>\n",
       "      <td>0.104862</td>\n",
       "    </tr>\n",
       "  </tbody>\n",
       "</table>\n",
       "<p>8292 rows × 8 columns</p>\n",
       "</div>"
      ],
      "text/plain": [
       "                          $open    $close     $high      $low       $volume  \\\n",
       "instrument datetime                                                           \n",
       "SH000300   2010-01-04  3.655379  3.597137  3.660752  3.597137  6.496348e+10   \n",
       "           2010-01-05  3.607271  3.626451  3.640177  3.558909  8.433286e+10   \n",
       "           2010-01-06  3.621018  3.603750  3.651675  3.603181  7.712260e+10   \n",
       "           2010-01-07  3.605206  3.532250  3.620875  3.513233  7.896721e+10   \n",
       "           2010-01-08  3.517445  3.541072  3.543056  3.486706  5.974405e+10   \n",
       "...                         ...       ...       ...       ...           ...   \n",
       "SZ300038   2010-01-08  1.013889  1.000000  1.041667  0.990278  4.310424e+08   \n",
       "SZ300039   2010-01-08  1.000440  1.000000  1.055189  0.997801  6.103480e+08   \n",
       "SZ300040   2010-01-08  1.028653  1.000000  1.038682  0.993314  3.677801e+08   \n",
       "SZ300041   2010-01-08  1.013149  1.000000  1.034706  0.993749  4.243246e+08   \n",
       "SZ300042   2010-01-08  0.972355  1.000000  1.077216  0.972355  4.582294e+08   \n",
       "\n",
       "                       Ref($close, 1)  Mean($close, 3)  $high-$low  \n",
       "instrument datetime                                                 \n",
       "SH000300   2010-01-04        3.638295         3.618871    0.063615  \n",
       "           2010-01-05        3.597137         3.620628    0.081269  \n",
       "           2010-01-06        3.626451         3.609113    0.048495  \n",
       "           2010-01-07        3.603750         3.587484    0.107643  \n",
       "           2010-01-08        3.532250         3.559024    0.056350  \n",
       "...                               ...              ...         ...  \n",
       "SZ300038   2010-01-08             NaN         1.000000    0.051389  \n",
       "SZ300039   2010-01-08             NaN         1.000000    0.057388  \n",
       "SZ300040   2010-01-08             NaN         1.000000    0.045368  \n",
       "SZ300041   2010-01-08             NaN         1.000000    0.040957  \n",
       "SZ300042   2010-01-08             NaN         1.000000    0.104862  \n",
       "\n",
       "[8292 rows x 8 columns]"
      ]
     },
     "execution_count": 12,
     "metadata": {},
     "output_type": "execute_result"
    }
   ],
   "source": [
    "df"
   ]
  },
  {
   "cell_type": "code",
   "execution_count": null,
   "id": "414b27bb",
   "metadata": {},
   "outputs": [],
   "source": []
  },
  {
   "cell_type": "code",
   "execution_count": null,
   "id": "8b1fe286",
   "metadata": {},
   "outputs": [],
   "source": []
  },
  {
   "cell_type": "code",
   "execution_count": null,
   "id": "c2c26d52",
   "metadata": {},
   "outputs": [],
   "source": []
  },
  {
   "cell_type": "code",
   "execution_count": null,
   "id": "4935c11a",
   "metadata": {},
   "outputs": [],
   "source": []
  }
 ],
 "metadata": {
  "kernelspec": {
   "display_name": "Python 3 (ipykernel)",
   "language": "python",
   "name": "python3"
  },
  "language_info": {
   "codemirror_mode": {
    "name": "ipython",
    "version": 3
   },
   "file_extension": ".py",
   "mimetype": "text/x-python",
   "name": "python",
   "nbconvert_exporter": "python",
   "pygments_lexer": "ipython3",
   "version": "3.9.12"
  }
 },
 "nbformat": 4,
 "nbformat_minor": 5
}

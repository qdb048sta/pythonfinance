{
 "cells": [
  {
   "cell_type": "code",
   "execution_count": 1,
   "id": "30f8f27c",
   "metadata": {},
   "outputs": [
    {
     "name": "stdout",
     "output_type": "stream",
     "text": [
      "0050\n",
      "https://histock.tw/stock/0050//%E8%B2%A1%E5%8B%99%E5%A0%B1%E8%A1%A8\n",
      "https://histock.tw/stock/0050//%E9%99%A4%E6%AC%8A%E9%99%A4%E6%81%AF\n",
      "0050 股利政策 failed\n",
      "https://histock.tw/stock/0050//%E5%88%A9%E6%BD%A4%E6%AF%94%E7%8E%87\n",
      "0050 獲利能力 failed\n",
      "https://histock.tw/stock/0050//%E8%B2%A0%E5%82%B5%E4%BD%94%E8%B3%87%E7%94%A2%E6%AF%94\n"
     ]
    }
   ],
   "source": [
    "import requests\n",
    "from io import StringIO\n",
    "import pandas as pd\n",
    "import numpy as np\n",
    "import time\n",
    "from datetime import datetime\n",
    "import twstock\n",
    "import datetime as dt\n",
    "total=[]\n",
    "for i in twstock.codes:\n",
    "    total.append(twstock.codes[i])\n",
    "df2=pd.DataFrame(total)\n",
    "table_list=[[\"基本財報\",\"%E8%B2%A1%E5%8B%99%E5%A0%B1%E8%A1%A8\"]\n",
    "            ,[\"股利政策\",\"%E9%99%A4%E6%AC%8A%E9%99%A4%E6%81%AF\"]\n",
    "            ,[\"獲利能力\",\"%E5%88%A9%E6%BD%A4%E6%AF%94%E7%8E%87\"]\n",
    "            ,[\"財務安全\",\"%E8%B2%A0%E5%82%B5%E4%BD%94%E8%B3%87%E7%94%A2%E6%AF%94\"]\n",
    "            ,[\"公司成長\",\"%E6%AF%9B%E5%88%A9%E6%88%90%E9%95%B7%E7%8E%87\"]\n",
    "                   ,[\"企業價值\",\"%E6%9C%AC%E7%9B%8A%E6%AF%94\"]\n",
    "                   ,[\"公司資料\",\"%E5%85%AC%E5%8F%B8%E8%B3%87%E6%96%99\"]]\n",
    "#subdf=df2[df2[\"market\"]==\"上市\"]\n",
    "subdf=df2\n",
    "subdf=subdf[(subdf[\"market\"]==\"上市\") & ((subdf[\"type\"]==\"ETF\")|(subdf[\"type\"]==\"臺灣存託憑證(TDR)\")|(subdf[\"type\"]==\"受益證券-不動產投資信託\"))]\n",
    "for i in subdf[\"code\"]:\n",
    "    print(i)\n",
    "    for k in table_list:\n",
    "        try:\n",
    "            try:\n",
    "                requests.get(\"https://histock.tw/stock/\"+i+\"//\"+k[1])\n",
    "                pass\n",
    "            except:\n",
    "                print(\"currently sleeping\")\n",
    "            print(\"https://histock.tw/stock/\"+i+\"//\"+k[1])\n",
    "            t=pd.read_html(\"https://histock.tw/stock/\"+i+\"//\"+k[1])[0]\n",
    "            t.to_csv(\"C:\\\\Users\\\\starg\\\\Downloads\\\\Hi_stock_data\\\\\"+i+\"_\"+k[0]+\".csv\")\n",
    "        except:\n",
    "            print(i,k[0],\"failed\")\n",
    "        time.sleep(3)"
   ]
  },
  {
   "cell_type": "code",
   "execution_count": null,
   "id": "298183cf",
   "metadata": {},
   "outputs": [],
   "source": []
  },
  {
   "cell_type": "code",
   "execution_count": null,
   "id": "e78e5452",
   "metadata": {},
   "outputs": [],
   "source": []
  },
  {
   "cell_type": "code",
   "execution_count": null,
   "id": "7b22e7c5",
   "metadata": {},
   "outputs": [],
   "source": []
  },
  {
   "cell_type": "code",
   "execution_count": null,
   "id": "303e495e",
   "metadata": {},
   "outputs": [],
   "source": []
  },
  {
   "cell_type": "code",
   "execution_count": null,
   "id": "60819397",
   "metadata": {},
   "outputs": [],
   "source": []
  }
 ],
 "metadata": {
  "kernelspec": {
   "display_name": "Python 3.8.2 64-bit",
   "language": "python",
   "name": "python3"
  },
  "language_info": {
   "codemirror_mode": {
    "name": "ipython",
    "version": 3
   },
   "file_extension": ".py",
   "mimetype": "text/x-python",
   "name": "python",
   "nbconvert_exporter": "python",
   "pygments_lexer": "ipython3",
   "version": "3.8.2"
  },
  "vscode": {
   "interpreter": {
    "hash": "31f2aee4e71d21fbe5cf8b01ff0e069b9275f58929596ceb00d14d90e3e16cd6"
   }
  }
 },
 "nbformat": 4,
 "nbformat_minor": 5
}

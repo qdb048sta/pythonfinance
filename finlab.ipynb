{
 "cells": [
  {
   "cell_type": "code",
   "execution_count": 1,
   "metadata": {},
   "outputs": [
    {
     "name": "stdout",
     "output_type": "stream",
     "text": [
      "Defaulting to user installation because normal site-packages is not writeable\n",
      "Requirement already satisfied: finlab in c:\\users\\starg\\appdata\\roaming\\python\\python39\\site-packages (0.3.5.dev1)\n",
      "Requirement already satisfied: pandas>=1.0.3 in c:\\programdata\\anaconda3\\lib\\site-packages (from finlab) (1.4.2)\n",
      "Requirement already satisfied: pyarrow>=2.0.0 in c:\\users\\starg\\appdata\\roaming\\python\\python39\\site-packages (from finlab) (8.0.0)\n",
      "Requirement already satisfied: requests in c:\\programdata\\anaconda3\\lib\\site-packages (from finlab) (2.27.1)\n",
      "Requirement already satisfied: Cython in c:\\programdata\\anaconda3\\lib\\site-packages (from finlab) (0.29.28)\n",
      "Requirement already satisfied: numpy in c:\\users\\starg\\appdata\\roaming\\python\\python39\\site-packages (from finlab) (1.23.1)\n",
      "Requirement already satisfied: lz4 in c:\\users\\starg\\appdata\\roaming\\python\\python39\\site-packages (from finlab) (4.0.2)\n",
      "Requirement already satisfied: pytz>=2020.1 in c:\\programdata\\anaconda3\\lib\\site-packages (from pandas>=1.0.3->finlab) (2021.3)\n",
      "Requirement already satisfied: python-dateutil>=2.8.1 in c:\\programdata\\anaconda3\\lib\\site-packages (from pandas>=1.0.3->finlab) (2.8.2)\n",
      "Requirement already satisfied: six>=1.5 in c:\\programdata\\anaconda3\\lib\\site-packages (from python-dateutil>=2.8.1->pandas>=1.0.3->finlab) (1.16.0)\n",
      "Requirement already satisfied: idna<4,>=2.5 in c:\\programdata\\anaconda3\\lib\\site-packages (from requests->finlab) (3.3)\n",
      "Requirement already satisfied: charset-normalizer~=2.0.0 in c:\\programdata\\anaconda3\\lib\\site-packages (from requests->finlab) (2.0.4)\n",
      "Requirement already satisfied: urllib3<1.27,>=1.21.1 in c:\\programdata\\anaconda3\\lib\\site-packages (from requests->finlab) (1.26.9)\n",
      "Requirement already satisfied: certifi>=2017.4.17 in c:\\programdata\\anaconda3\\lib\\site-packages (from requests->finlab) (2021.10.8)\n"
     ]
    },
    {
     "name": "stderr",
     "output_type": "stream",
     "text": [
      "INFO:numexpr.utils:NumExpr defaulting to 8 threads.\n"
     ]
    }
   ],
   "source": [
    "!pip install finlab\n",
    "from finlab import data\n",
    "import finlab\n",
    "from finlab.backtest import sim\n",
    "finlab.login(api_token=\"QNBAVxVcsFjg0vZ5Um8P4XVtRWnhnMtznBpGjGHXqQ+vBYWkN6kXnXDrW70KhH4v#free\")\n",
    "#guide can be found here\n",
    "#https://mrjbq7.github.io/ta-lib/funcs.html\n",
    "#https://twopirllc.github.io/pandas-ta/#indicators-by-category\n"
   ]
  },
  {
   "cell_type": "code",
   "execution_count": null,
   "metadata": {},
   "outputs": [],
   "source": []
  },
  {
   "cell_type": "code",
   "execution_count": null,
   "metadata": {},
   "outputs": [],
   "source": []
  },
  {
   "cell_type": "code",
   "execution_count": null,
   "metadata": {},
   "outputs": [],
   "source": []
  },
  {
   "cell_type": "code",
   "execution_count": null,
   "metadata": {},
   "outputs": [],
   "source": []
  },
  {
   "cell_type": "code",
   "execution_count": null,
   "metadata": {},
   "outputs": [],
   "source": []
  },
  {
   "cell_type": "code",
   "execution_count": null,
   "metadata": {},
   "outputs": [],
   "source": []
  },
  {
   "cell_type": "code",
   "execution_count": null,
   "metadata": {},
   "outputs": [],
   "source": []
  },
  {
   "cell_type": "code",
   "execution_count": null,
   "metadata": {},
   "outputs": [],
   "source": []
  },
  {
   "cell_type": "code",
   "execution_count": null,
   "metadata": {},
   "outputs": [],
   "source": []
  },
  {
   "cell_type": "code",
   "execution_count": null,
   "metadata": {},
   "outputs": [],
   "source": []
  },
  {
   "cell_type": "code",
   "execution_count": null,
   "metadata": {},
   "outputs": [],
   "source": []
  },
  {
   "cell_type": "code",
   "execution_count": 63,
   "metadata": {},
   "outputs": [
    {
     "ename": "Exception",
     "evalue": "Position is empty and zero stock is selected.",
     "output_type": "error",
     "traceback": [
      "\u001b[1;31m---------------------------------------------------------------------------\u001b[0m",
      "\u001b[1;31mException\u001b[0m                                 Traceback (most recent call last)",
      "Input \u001b[1;32mIn [63]\u001b[0m, in \u001b[0;36m<cell line: 1>\u001b[1;34m()\u001b[0m\n\u001b[1;32m----> 1\u001b[0m \u001b[43msim\u001b[49m\u001b[43m(\u001b[49m\u001b[43mposition\u001b[49m\u001b[43m,\u001b[49m\u001b[43mresample\u001b[49m\u001b[38;5;241;43m=\u001b[39;49m\u001b[38;5;124;43m\"\u001b[39;49m\u001b[38;5;124;43mW\u001b[39;49m\u001b[38;5;124;43m\"\u001b[39;49m\u001b[43m)\u001b[49m\n",
      "File \u001b[1;32m~\\AppData\\Roaming\\Python\\Python39\\site-packages\\finlab\\backtest.py:219\u001b[0m, in \u001b[0;36msim\u001b[1;34m(position, resample, resample_offset, trade_at_price, position_limit, fee_ratio, tax_ratio, name, stop_loss, take_profit, touched_exit, mae_mfe_window, mae_mfe_window_step, market, upload)\u001b[0m\n\u001b[0;32m    217\u001b[0m \u001b[38;5;66;03m# check position is valid\u001b[39;00m\n\u001b[0;32m    218\u001b[0m \u001b[38;5;28;01mif\u001b[39;00m position\u001b[38;5;241m.\u001b[39mabs()\u001b[38;5;241m.\u001b[39msum()\u001b[38;5;241m.\u001b[39msum() \u001b[38;5;241m==\u001b[39m \u001b[38;5;241m0\u001b[39m \u001b[38;5;129;01mor\u001b[39;00m \u001b[38;5;28mlen\u001b[39m(position\u001b[38;5;241m.\u001b[39mindex) \u001b[38;5;241m==\u001b[39m \u001b[38;5;241m0\u001b[39m:\n\u001b[1;32m--> 219\u001b[0m     \u001b[38;5;28;01mraise\u001b[39;00m \u001b[38;5;167;01mException\u001b[39;00m(\u001b[38;5;124m'\u001b[39m\u001b[38;5;124mPosition is empty and zero stock is selected.\u001b[39m\u001b[38;5;124m'\u001b[39m)\n\u001b[0;32m    221\u001b[0m \u001b[38;5;66;03m# format position index\u001b[39;00m\n\u001b[0;32m    222\u001b[0m \u001b[38;5;28;01mif\u001b[39;00m \u001b[38;5;28misinstance\u001b[39m(position\u001b[38;5;241m.\u001b[39mindex[\u001b[38;5;241m0\u001b[39m], \u001b[38;5;28mstr\u001b[39m):\n",
      "\u001b[1;31mException\u001b[0m: Position is empty and zero stock is selected."
     ]
    }
   ],
   "source": []
  },
  {
   "cell_type": "code",
   "execution_count": null,
   "metadata": {},
   "outputs": [],
   "source": []
  },
  {
   "cell_type": "code",
   "execution_count": null,
   "metadata": {},
   "outputs": [],
   "source": []
  },
  {
   "cell_type": "code",
   "execution_count": 67,
   "metadata": {},
   "outputs": [
    {
     "name": "stderr",
     "output_type": "stream",
     "text": [
      "INFO:finlab.data:fundamental_features:ROE稅後 -- Daily data usage: 199.5 / 5000 MB\n"
     ]
    }
   ],
   "source": [
    "rsi20 = data.indicator(\"rsi\", timeperiod=20).pct_change(3) > 0.02\n",
    "rsi20_2=(rsi20 > 75).sustain(3)\n",
    "rsi60 = data.indicator(\"rsi\", timeperiod=60)<75\n",
    "rsi120 = data.indicator(\"rsi\", timeperiod=120)>55\n",
    "\n",
    "roe_cond=data.get(\"fundamental_features:ROE稅後\")>0\n",
    "profit_growing=data.get('fundamental_features:稅後淨利成長率')>0\n",
    "#profit_con=profit_growing>0\n",
    "monthly_price=price<price.average(30)\n",
    "buy=(rsi20&rsi60&rsi120&rsi20_2)\n"
   ]
  },
  {
   "cell_type": "code",
   "execution_count": 68,
   "metadata": {},
   "outputs": [],
   "source": [
    "sell=price>price.average(30)"
   ]
  },
  {
   "cell_type": "code",
   "execution_count": 69,
   "metadata": {},
   "outputs": [],
   "source": [
    "position=buy.hold_until(sell)"
   ]
  },
  {
   "cell_type": "code",
   "execution_count": 70,
   "metadata": {},
   "outputs": [
    {
     "ename": "Exception",
     "evalue": "Position is empty and zero stock is selected.",
     "output_type": "error",
     "traceback": [
      "\u001b[1;31m---------------------------------------------------------------------------\u001b[0m",
      "\u001b[1;31mException\u001b[0m                                 Traceback (most recent call last)",
      "Input \u001b[1;32mIn [70]\u001b[0m, in \u001b[0;36m<cell line: 1>\u001b[1;34m()\u001b[0m\n\u001b[1;32m----> 1\u001b[0m \u001b[43msim\u001b[49m\u001b[43m(\u001b[49m\u001b[43mposition\u001b[49m\u001b[43m,\u001b[49m\u001b[43mresample\u001b[49m\u001b[38;5;241;43m=\u001b[39;49m\u001b[38;5;124;43m\"\u001b[39;49m\u001b[38;5;124;43mW\u001b[39;49m\u001b[38;5;124;43m\"\u001b[39;49m\u001b[43m)\u001b[49m\n",
      "File \u001b[1;32m~\\AppData\\Roaming\\Python\\Python39\\site-packages\\finlab\\backtest.py:219\u001b[0m, in \u001b[0;36msim\u001b[1;34m(position, resample, resample_offset, trade_at_price, position_limit, fee_ratio, tax_ratio, name, stop_loss, take_profit, touched_exit, mae_mfe_window, mae_mfe_window_step, market, upload)\u001b[0m\n\u001b[0;32m    217\u001b[0m \u001b[38;5;66;03m# check position is valid\u001b[39;00m\n\u001b[0;32m    218\u001b[0m \u001b[38;5;28;01mif\u001b[39;00m position\u001b[38;5;241m.\u001b[39mabs()\u001b[38;5;241m.\u001b[39msum()\u001b[38;5;241m.\u001b[39msum() \u001b[38;5;241m==\u001b[39m \u001b[38;5;241m0\u001b[39m \u001b[38;5;129;01mor\u001b[39;00m \u001b[38;5;28mlen\u001b[39m(position\u001b[38;5;241m.\u001b[39mindex) \u001b[38;5;241m==\u001b[39m \u001b[38;5;241m0\u001b[39m:\n\u001b[1;32m--> 219\u001b[0m     \u001b[38;5;28;01mraise\u001b[39;00m \u001b[38;5;167;01mException\u001b[39;00m(\u001b[38;5;124m'\u001b[39m\u001b[38;5;124mPosition is empty and zero stock is selected.\u001b[39m\u001b[38;5;124m'\u001b[39m)\n\u001b[0;32m    221\u001b[0m \u001b[38;5;66;03m# format position index\u001b[39;00m\n\u001b[0;32m    222\u001b[0m \u001b[38;5;28;01mif\u001b[39;00m \u001b[38;5;28misinstance\u001b[39m(position\u001b[38;5;241m.\u001b[39mindex[\u001b[38;5;241m0\u001b[39m], \u001b[38;5;28mstr\u001b[39m):\n",
      "\u001b[1;31mException\u001b[0m: Position is empty and zero stock is selected."
     ]
    }
   ],
   "source": [
    "sim(position,resample=\"W\")"
   ]
  },
  {
   "cell_type": "code",
   "execution_count": 75,
   "metadata": {
    "scrolled": true
   },
   "outputs": [
    {
     "ename": "Exception",
     "evalue": "Position is empty and zero stock is selected.",
     "output_type": "error",
     "traceback": [
      "\u001b[1;31m---------------------------------------------------------------------------\u001b[0m",
      "\u001b[1;31mException\u001b[0m                                 Traceback (most recent call last)",
      "Input \u001b[1;32mIn [75]\u001b[0m, in \u001b[0;36m<cell line: 32>\u001b[1;34m()\u001b[0m\n\u001b[0;32m     28\u001b[0m 賣 \u001b[38;5;241m=\u001b[39m 持有60天 \u001b[38;5;241m|\u001b[39m 跌破季線\n\u001b[0;32m     30\u001b[0m 股票部位 \u001b[38;5;241m=\u001b[39m 買\u001b[38;5;241m.\u001b[39mhold_until(賣)\n\u001b[1;32m---> 32\u001b[0m \u001b[43mbacktest\u001b[49m\u001b[38;5;241;43m.\u001b[39;49m\u001b[43msim\u001b[49m\u001b[43m(\u001b[49m\u001b[43m股票部位\u001b[49m\u001b[43m,\u001b[49m\u001b[43m \u001b[49m\u001b[43mresample\u001b[49m\u001b[38;5;241;43m=\u001b[39;49m\u001b[38;5;124;43m'\u001b[39;49m\u001b[38;5;124;43mW\u001b[39;49m\u001b[38;5;124;43m'\u001b[39;49m\u001b[43m)\u001b[49m\n",
      "File \u001b[1;32m~\\AppData\\Roaming\\Python\\Python39\\site-packages\\finlab\\backtest.py:219\u001b[0m, in \u001b[0;36msim\u001b[1;34m(position, resample, resample_offset, trade_at_price, position_limit, fee_ratio, tax_ratio, name, stop_loss, take_profit, touched_exit, mae_mfe_window, mae_mfe_window_step, market, upload)\u001b[0m\n\u001b[0;32m    217\u001b[0m \u001b[38;5;66;03m# check position is valid\u001b[39;00m\n\u001b[0;32m    218\u001b[0m \u001b[38;5;28;01mif\u001b[39;00m position\u001b[38;5;241m.\u001b[39mabs()\u001b[38;5;241m.\u001b[39msum()\u001b[38;5;241m.\u001b[39msum() \u001b[38;5;241m==\u001b[39m \u001b[38;5;241m0\u001b[39m \u001b[38;5;129;01mor\u001b[39;00m \u001b[38;5;28mlen\u001b[39m(position\u001b[38;5;241m.\u001b[39mindex) \u001b[38;5;241m==\u001b[39m \u001b[38;5;241m0\u001b[39m:\n\u001b[1;32m--> 219\u001b[0m     \u001b[38;5;28;01mraise\u001b[39;00m \u001b[38;5;167;01mException\u001b[39;00m(\u001b[38;5;124m'\u001b[39m\u001b[38;5;124mPosition is empty and zero stock is selected.\u001b[39m\u001b[38;5;124m'\u001b[39m)\n\u001b[0;32m    221\u001b[0m \u001b[38;5;66;03m# format position index\u001b[39;00m\n\u001b[0;32m    222\u001b[0m \u001b[38;5;28;01mif\u001b[39;00m \u001b[38;5;28misinstance\u001b[39m(position\u001b[38;5;241m.\u001b[39mindex[\u001b[38;5;241m0\u001b[39m], \u001b[38;5;28mstr\u001b[39m):\n",
      "\u001b[1;31mException\u001b[0m: Position is empty and zero stock is selected."
     ]
    }
   ],
   "source": [
    "from finlab import data, backtest\n",
    "# talib\n",
    "# real = RSI(close, timeperiod=14)\n",
    "\n",
    "rsi20 = data.indicator(\"rsi\", timeperiod=20)\n",
    "rsi60 = data.indicator(\"rsi\", timeperiod=60)\n",
    "rsi120 = data.indicator(\"rsi\", timeperiod=120)\n",
    "ROE稅後 = data.get(\"fundamental_features:ROE稅後\")\n",
    "\n",
    "長週期上漲 = rsi120 > 55\n",
    "中週期別過熱 = rsi60 < 75\n",
    "短週期RSI上漲 = rsi20.pct_change(3) > 0.02\n",
    "短週期RSI高檔頓化 = (rsi20 > 75).sustain(3)\n",
    "\n",
    "ROE為正 = ROE稅後 > 0\n",
    "\n",
    "買 = (長週期上漲 \n",
    "     & 中週期別過熱 \n",
    "     & 短週期RSI上漲 \n",
    "     & 短週期RSI高檔頓化\n",
    "     & ROE為正\n",
    "    )\n",
    "\n",
    "持有60天 = 買.shift(60)\n",
    "收盤價 = data.get('price:收盤價')\n",
    "跌破季線 = 收盤價 < 收盤價.average(60)\n",
    "\n",
    "賣 = 持有60天 | 跌破季線\n",
    "\n",
    "股票部位 = 買.hold_until(賣)\n",
    "\n",
    "backtest.sim(股票部位, resample='W')"
   ]
  },
  {
   "cell_type": "code",
   "execution_count": 95,
   "metadata": {},
   "outputs": [],
   "source": [
    "#rsibuy=data.indicator(\"rsi\", timeperiod=14)<30\n",
    "price=data.get(\"price:收盤價\")\n",
    "price_ind=price<price.average(30)\n",
    "roe_cond=data.get(\"fundamental_features:ROE稅後\")>0\n",
    "profit_growing=data.get('fundamental_features:稅後淨利成長率')>0\n",
    "rev_growing=data.get('fundamental_features:營收成長率')>5\n",
    "buy=price_ind&roe_cond&profit_growing&rev_growing\n",
    "rsisell=data.indicator(\"rsi\",timeperiod=14)>80\n",
    "position=buy.hold_until(rsisell)\n",
    "\n",
    "\n"
   ]
  },
  {
   "cell_type": "code",
   "execution_count": 96,
   "metadata": {},
   "outputs": [
    {
     "data": {
      "text/html": [
       "\n",
       "        <iframe\n",
       "            width=\"100%\"\n",
       "            height=\"600\"\n",
       "            src=\"https://ai.finlab.tw/strategy/?uid=oKw8thdXbIXI0kkOdLeDcxFTm0s2&sid=未命名\"\n",
       "            frameborder=\"0\"\n",
       "            allowfullscreen\n",
       "            \n",
       "        ></iframe>\n",
       "        "
      ],
      "text/plain": [
       "<IPython.lib.display.IFrame at 0x2391fd660d0>"
      ]
     },
     "metadata": {},
     "output_type": "display_data"
    },
    {
     "data": {
      "text/plain": [
       "<finlab.report.Report at 0x239000ff4f0>"
      ]
     },
     "execution_count": 96,
     "metadata": {},
     "output_type": "execute_result"
    }
   ],
   "source": [
    "sim(position, resample='W')"
   ]
  },
  {
   "cell_type": "code",
   "execution_count": 83,
   "metadata": {},
   "outputs": [
    {
     "name": "stderr",
     "output_type": "stream",
     "text": [
      "INFO:finlab.data:institutional_investors_trading_all_market_summary:買進金額 -- Daily data usage: 0.3 / 5000 MB\n"
     ]
    }
   ],
   "source": [
    "buysuf=data.get('institutional_investors_trading_all_market_summary:買進金額')"
   ]
  },
  {
   "cell_type": "code",
   "execution_count": 86,
   "metadata": {},
   "outputs": [],
   "source": [
    "buysuf_pct=(buy-buysuf.shift(1))/buy"
   ]
  },
  {
   "cell_type": "code",
   "execution_count": 87,
   "metadata": {},
   "outputs": [
    {
     "data": {
      "text/html": [
       "<div>\n",
       "<style scoped>\n",
       "    .dataframe tbody tr th:only-of-type {\n",
       "        vertical-align: middle;\n",
       "    }\n",
       "\n",
       "    .dataframe tbody tr th {\n",
       "        vertical-align: top;\n",
       "    }\n",
       "\n",
       "    .dataframe thead th {\n",
       "        text-align: right;\n",
       "    }\n",
       "</style>\n",
       "<table border=\"1\" class=\"dataframe\">\n",
       "  <thead>\n",
       "    <tr style=\"text-align: right;\">\n",
       "      <th></th>\n",
       "    </tr>\n",
       "    <tr>\n",
       "      <th>date</th>\n",
       "    </tr>\n",
       "  </thead>\n",
       "  <tbody>\n",
       "    <tr>\n",
       "      <th>2013-04-19</th>\n",
       "    </tr>\n",
       "    <tr>\n",
       "      <th>2013-04-22</th>\n",
       "    </tr>\n",
       "    <tr>\n",
       "      <th>2013-04-23</th>\n",
       "    </tr>\n",
       "    <tr>\n",
       "      <th>2013-04-24</th>\n",
       "    </tr>\n",
       "    <tr>\n",
       "      <th>2013-04-25</th>\n",
       "    </tr>\n",
       "    <tr>\n",
       "      <th>...</th>\n",
       "    </tr>\n",
       "    <tr>\n",
       "      <th>2022-07-22</th>\n",
       "    </tr>\n",
       "    <tr>\n",
       "      <th>2022-07-25</th>\n",
       "    </tr>\n",
       "    <tr>\n",
       "      <th>2022-07-26</th>\n",
       "    </tr>\n",
       "    <tr>\n",
       "      <th>2022-08-14</th>\n",
       "    </tr>\n",
       "    <tr>\n",
       "      <th>2022-08-31</th>\n",
       "    </tr>\n",
       "  </tbody>\n",
       "</table>\n",
       "<p>2435 rows × 0 columns</p>\n",
       "</div>"
      ],
      "text/plain": [
       "Empty FinlabDataFrame\n",
       "Columns: []\n",
       "Index: [2013-04-19 00:00:00, 2013-04-22 00:00:00, 2013-04-23 00:00:00, 2013-04-24 00:00:00, 2013-04-25 00:00:00, 2013-04-26 00:00:00, 2013-04-29 00:00:00, 2013-04-30 00:00:00, 2013-05-02 00:00:00, 2013-05-03 00:00:00, 2013-05-06 00:00:00, 2013-05-07 00:00:00, 2013-05-08 00:00:00, 2013-05-09 00:00:00, 2013-05-10 00:00:00, 2013-05-12 00:00:00, 2013-05-13 00:00:00, 2013-05-14 00:00:00, 2013-05-15 00:00:00, 2013-05-16 00:00:00, 2013-05-17 00:00:00, 2013-05-20 00:00:00, 2013-05-21 00:00:00, 2013-05-22 00:00:00, 2013-05-23 00:00:00, 2013-05-24 00:00:00, 2013-05-27 00:00:00, 2013-05-28 00:00:00, 2013-05-29 00:00:00, 2013-05-30 00:00:00, 2013-05-31 00:00:00, 2013-06-03 00:00:00, 2013-06-04 00:00:00, 2013-06-05 00:00:00, 2013-06-06 00:00:00, 2013-06-07 00:00:00, 2013-06-10 00:00:00, 2013-06-11 00:00:00, 2013-06-13 00:00:00, 2013-06-14 00:00:00, 2013-06-17 00:00:00, 2013-06-18 00:00:00, 2013-06-19 00:00:00, 2013-06-20 00:00:00, 2013-06-21 00:00:00, 2013-06-24 00:00:00, 2013-06-25 00:00:00, 2013-06-26 00:00:00, 2013-06-27 00:00:00, 2013-06-28 00:00:00, 2013-07-01 00:00:00, 2013-07-02 00:00:00, 2013-07-03 00:00:00, 2013-07-04 00:00:00, 2013-07-05 00:00:00, 2013-07-08 00:00:00, 2013-07-09 00:00:00, 2013-07-10 00:00:00, 2013-07-11 00:00:00, 2013-07-12 00:00:00, 2013-07-15 00:00:00, 2013-07-16 00:00:00, 2013-07-17 00:00:00, 2013-07-18 00:00:00, 2013-07-19 00:00:00, 2013-07-22 00:00:00, 2013-07-23 00:00:00, 2013-07-24 00:00:00, 2013-07-25 00:00:00, 2013-07-26 00:00:00, 2013-07-29 00:00:00, 2013-07-30 00:00:00, 2013-07-31 00:00:00, 2013-08-01 00:00:00, 2013-08-02 00:00:00, 2013-08-05 00:00:00, 2013-08-06 00:00:00, 2013-08-07 00:00:00, 2013-08-08 00:00:00, 2013-08-09 00:00:00, 2013-08-10 00:00:00, 2013-08-11 00:00:00, 2013-08-12 00:00:00, 2013-08-13 00:00:00, 2013-08-14 00:00:00, 2013-08-15 00:00:00, 2013-08-16 00:00:00, 2013-08-19 00:00:00, 2013-08-20 00:00:00, 2013-08-22 00:00:00, 2013-08-23 00:00:00, 2013-08-26 00:00:00, 2013-08-27 00:00:00, 2013-08-28 00:00:00, 2013-08-29 00:00:00, 2013-08-30 00:00:00, 2013-08-31 00:00:00, 2013-09-02 00:00:00, 2013-09-03 00:00:00, 2013-09-04 00:00:00, ...]\n",
       "\n",
       "[2435 rows x 0 columns]"
      ]
     },
     "execution_count": 87,
     "metadata": {},
     "output_type": "execute_result"
    }
   ],
   "source": []
  },
  {
   "cell_type": "code",
   "execution_count": null,
   "metadata": {},
   "outputs": [],
   "source": []
  },
  {
   "cell_type": "code",
   "execution_count": 90,
   "metadata": {},
   "outputs": [
    {
     "name": "stderr",
     "output_type": "stream",
     "text": [
      "INFO:finlab.data:price_earning_ratio:本益比 -- Daily data usage: 14.3 / 5000 MB\n",
      "INFO:finlab.data:monthly_revenue:當月營收 -- Daily data usage: 17.7 / 5000 MB\n",
      "INFO:finlab.data:price:收盤價 -- Daily data usage: 38.8 / 5000 MB\n",
      "INFO:finlab.data:fundamental_features:營業利益成長率 -- Daily data usage: 40.2 / 5000 MB\n",
      "INFO:finlab.data:company_basic_info -- Daily data usage: 41.1 / 5000 MB\n",
      "INFO:finlab.data:financial_statements_upload_detail:upload_date -- Daily data usage: 42.7 / 5000 MB\n",
      "INFO:finlab.data:etl:adj_close -- Daily data usage: 70.6 / 5000 MB\n",
      "INFO:finlab.data:benchmark_return:發行量加權股價報酬指數 -- Daily data usage: 70.6 / 5000 MB\n"
     ]
    },
    {
     "data": {
      "text/html": [
       "\n",
       "        <iframe\n",
       "            width=\"100%\"\n",
       "            height=\"600\"\n",
       "            src=\"https://ai.finlab.tw/strategy/?uid=oKw8thdXbIXI0kkOdLeDcxFTm0s2&sid=peg_rev\"\n",
       "            frameborder=\"0\"\n",
       "            allowfullscreen\n",
       "            \n",
       "        ></iframe>\n",
       "        "
      ],
      "text/plain": [
       "<IPython.lib.display.IFrame at 0x239000850d0>"
      ]
     },
     "metadata": {},
     "output_type": "display_data"
    },
    {
     "data": {
      "text/plain": [
       "<finlab.report.Report at 0x239230bcc10>"
      ]
     },
     "execution_count": 90,
     "metadata": {},
     "output_type": "execute_result"
    }
   ],
   "source": [
    "from finlab import data\n",
    "from finlab.backtest import sim\n",
    "\n",
    "pe = data.get('price_earning_ratio:本益比')\n",
    "rev=data.get('monthly_revenue:當月營收')\n",
    "rev_ma3=rev.average(3)\n",
    "rev_ma12=rev.average(12)\n",
    "營業利益成長率=data.get('fundamental_features:營業利益成長率').deadline()\n",
    "peg=(pe/營業利益成長率)\n",
    "cond1= rev_ma3/rev_ma12>1.1\n",
    "cond2=rev/rev.shift(1)>0.9\n",
    "\n",
    "\n",
    "cond_all=cond1 & cond2\n",
    "result=peg*(cond_all)\n",
    "position=result[result>0].is_smallest(10).reindex(rev.index_str_to_date().index, method='ffill')\n",
    "\n",
    "sim(position=position,name=\"peg_rev\", fee_ratio=1.425/1000/3,stop_loss=0.1,upload=True)"
   ]
  },
  {
   "cell_type": "code",
   "execution_count": 100,
   "metadata": {},
   "outputs": [
    {
     "data": {
      "text/html": [
       "\n",
       "        <iframe\n",
       "            width=\"100%\"\n",
       "            height=\"600\"\n",
       "            src=\"https://ai.finlab.tw/strategy/?uid=oKw8thdXbIXI0kkOdLeDcxFTm0s2&sid=未命名\"\n",
       "            frameborder=\"0\"\n",
       "            allowfullscreen\n",
       "            \n",
       "        ></iframe>\n",
       "        "
      ],
      "text/plain": [
       "<IPython.lib.display.IFrame at 0x2390316ee80>"
      ]
     },
     "metadata": {},
     "output_type": "display_data"
    },
    {
     "data": {
      "text/plain": [
       "<finlab.report.Report at 0x239001ea760>"
      ]
     },
     "execution_count": 100,
     "metadata": {},
     "output_type": "execute_result"
    }
   ],
   "source": [
    "\n",
    "去年同月增減 = data.get(\"monthly_revenue:去年同月增減(%)\")\n",
    "c1 = 去年同月增減 > 45\n",
    "上月比較增減 = data.get(\"monthly_revenue:上月比較增減(%)\")\n",
    "c2 = 上月比較增減 > 10\n",
    "本益比 = data.get(\"price_earning_ratio:本益比\")\n",
    "c3 = (5 <= 本益比) & (本益比 <= 20)\n",
    "營業利益率 = data.get(\"fundamental_features:營業利益率\")\n",
    "c5 = (營業利益率>3).sustain(1)\n",
    "rsibuy = data.indicator(\"rsi\",adjust_price=False, resample=\"D\", timeperiod=14)<40\n",
    "price = data.get(\"price:收盤價\")\n",
    "sell=price>price.average(90)\n",
    "buy=(c1  & c2  & c3  & c5  & rsibuy)\n",
    "pos=buy.hold_until(sell)\n",
    "sim(buy,resample=\"W\")"
   ]
  },
  {
   "cell_type": "code",
   "execution_count": 106,
   "metadata": {},
   "outputs": [
    {
     "ename": "ZeroDivisionError",
     "evalue": "division by zero",
     "output_type": "error",
     "traceback": [
      "\u001b[1;31m---------------------------------------------------------------------------\u001b[0m",
      "\u001b[1;31mZeroDivisionError\u001b[0m                         Traceback (most recent call last)",
      "Input \u001b[1;32mIn [106]\u001b[0m, in \u001b[0;36m<cell line: 14>\u001b[1;34m()\u001b[0m\n\u001b[0;32m     12\u001b[0m exits \u001b[38;5;241m=\u001b[39m (close \u001b[38;5;241m<\u001b[39m sma60) \u001b[38;5;241m|\u001b[39m rsi\u001b[38;5;241m>\u001b[39m\u001b[38;5;241m65\u001b[39m\n\u001b[0;32m     13\u001b[0m position \u001b[38;5;241m=\u001b[39m entries\u001b[38;5;241m.\u001b[39mhold_until(exits)\n\u001b[1;32m---> 14\u001b[0m \u001b[43msim\u001b[49m\u001b[43m(\u001b[49m\u001b[43mposition\u001b[49m\u001b[43m)\u001b[49m\n",
      "File \u001b[1;32m~\\AppData\\Roaming\\Python\\Python39\\site-packages\\finlab\\backtest.py:446\u001b[0m, in \u001b[0;36msim\u001b[1;34m(position, resample, resample_offset, trade_at_price, position_limit, fee_ratio, tax_ratio, name, stop_loss, take_profit, touched_exit, mae_mfe_window, mae_mfe_window_step, market, upload)\u001b[0m\n\u001b[0;32m    443\u001b[0m \u001b[38;5;28;01mif\u001b[39;00m \u001b[38;5;129;01mnot\u001b[39;00m upload:\n\u001b[0;32m    444\u001b[0m     \u001b[38;5;28;01mreturn\u001b[39;00m r\n\u001b[1;32m--> 446\u001b[0m \u001b[43mr\u001b[49m\u001b[38;5;241;43m.\u001b[39;49m\u001b[43mupload\u001b[49m\u001b[43m(\u001b[49m\u001b[43mname\u001b[49m\u001b[43m)\u001b[49m\n\u001b[0;32m    447\u001b[0m \u001b[38;5;28;01mreturn\u001b[39;00m r\n",
      "File \u001b[1;32mfinlab\\report.pyx:134\u001b[0m, in \u001b[0;36mfinlab.report.Report.upload\u001b[1;34m()\u001b[0m\n",
      "File \u001b[1;32mfinlab\\report.pyx:364\u001b[0m, in \u001b[0;36mfinlab.report.Report.get_stats\u001b[1;34m()\u001b[0m\n",
      "\u001b[1;31mZeroDivisionError\u001b[0m: division by zero"
     ]
    }
   ],
   "source": [
    "close = data.get(\"price:收盤價\")\n",
    "pb = data.get(\"price_earning_ratio:股價淨值比\")\n",
    "董監持有股數占比 = data.get(\"internal_equity_changes:董監持有股數占比\")\n",
    "boss_hold = 董監持有股數占比 > 30\n",
    "當月營收 = data.get(\"monthly_revenue:當月營收\")\n",
    "rev_sl_growth = 當月營收.average(3).pct_change(12) > 當月營收.average(12).pct_change(12)\n",
    "rsi = data.indicator(\"rsi\",adjust_price=False, resample=\"D\", timeperiod=14)\n",
    "sma20 = close.average(20) \n",
    "sma60 = close.average(60)\n",
    "entries = (close > sma20) \n",
    "\n",
    "exits = (close < sma60) | rsi>65\n",
    "position = entries.hold_until(exits)\n",
    "sim(position)\n"
   ]
  },
  {
   "cell_type": "code",
   "execution_count": null,
   "metadata": {},
   "outputs": [],
   "source": []
  },
  {
   "cell_type": "code",
   "execution_count": null,
   "metadata": {},
   "outputs": [],
   "source": [
    "su356"
   ]
  }
 ],
 "metadata": {
  "kernelspec": {
   "display_name": "Python 3 (ipykernel)",
   "language": "python",
   "name": "python3"
  },
  "language_info": {
   "codemirror_mode": {
    "name": "ipython",
    "version": 3
   },
   "file_extension": ".py",
   "mimetype": "text/x-python",
   "name": "python",
   "nbconvert_exporter": "python",
   "pygments_lexer": "ipython3",
   "version": "3.9.12"
  },
  "vscode": {
   "interpreter": {
    "hash": "ad2bdc8ecc057115af97d19610ffacc2b4e99fae6737bb82f5d7fb13d2f2c186"
   }
  }
 },
 "nbformat": 4,
 "nbformat_minor": 2
}

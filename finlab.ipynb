{
 "cells": [
  {
   "cell_type": "code",
   "execution_count": 1,
   "metadata": {},
   "outputs": [
    {
     "name": "stderr",
     "output_type": "stream",
     "text": [
      "INFO:numexpr.utils:NumExpr defaulting to 8 threads.\n",
      "C:\\ProgramData\\Anaconda3\\lib\\site-packages\\scipy\\__init__.py:146: UserWarning: A NumPy version >=1.16.5 and <1.23.0 is required for this version of SciPy (detected version 1.23.1\n",
      "  warnings.warn(f\"A NumPy version >={np_minversion} and <{np_maxversion}\"\n"
     ]
    },
    {
     "name": "stdout",
     "output_type": "stream",
     "text": [
      "輸入成功!\n"
     ]
    }
   ],
   "source": [
    "from finlab import data\n",
    "\n",
    "#guide can be found here\n",
    "#https://mrjbq7.github.io/ta-lib/funcs.html\n",
    "#https://twopirllc.github.io/pandas-ta/#indicators-by-category\n",
    "#pip install --upgrade numpy\n",
    "#!rew install ta-lib\n",
    "#pip install pandas-lib\n",
    "from finlab import data\n",
    "import finlab\n",
    "from finlab.backtest import sim\n",
    "from finlab import backtest\n",
    "finlab.login(api_token=\"QNBAVxVcsFjg0vZ5Um8P4XVtRWnhnMtznBpGjGHXqQ+vBYWkN6kXnXDrW70KhH4v#free\")\n"
   ]
  },
  {
   "cell_type": "code",
   "execution_count": 27,
   "metadata": {},
   "outputs": [
    {
     "data": {
      "text/html": [
       "\n",
       "        <iframe\n",
       "            width=\"100%\"\n",
       "            height=\"600\"\n",
       "            src=\"https://ai.finlab.tw/strategy/?uid=oKw8thdXbIXI0kkOdLeDcxFTm0s2&sid=未命名\"\n",
       "            frameborder=\"0\"\n",
       "            allowfullscreen\n",
       "            \n",
       "        ></iframe>\n",
       "        "
      ],
      "text/plain": [
       "<IPython.lib.display.IFrame at 0x2a71364d4c0>"
      ]
     },
     "metadata": {},
     "output_type": "display_data"
    }
   ],
   "source": [
    "#策略開發10分鐘上手\n",
    "from finlab import data\n",
    "from finlab.backtest import sim\n",
    "close = data.get('price:收盤價')\n",
    "pb = data.get('price_earning_ratio:股價淨值比')  \n",
    "f = data.get(\"institutional_investors_trading_summary:外陸資買賣超股數(不含外資自營商)\")\n",
    "i = data.get(\"institutional_investors_trading_summary:投信買賣超股數\")\n",
    "s = data.get(\"institutional_investors_trading_summary:自營商買賣超股數(自行買賣)\")\n",
    "董監持有股數占比 = data.get(\"internal_equity_changes:董監持有股數占比\")\n",
    "boss_hold_rise = 董監持有股數占比.rise(1)\n",
    "sma20 = close.average(7)\n",
    "sma60 = close.average(60)\n",
    "entries = (close > sma20) & (f>0) & (i>0) & (s>0)&boss_hold_rise\n",
    "exits = close < sma60\n",
    "position = entries.hold_until(exits, rank=-pb)\n",
    "backtest_report = sim(position,resample=\"Q\")"
   ]
  },
  {
   "cell_type": "code",
   "execution_count": null,
   "metadata": {},
   "outputs": [],
   "source": []
  },
  {
   "cell_type": "code",
   "execution_count": null,
   "metadata": {},
   "outputs": [],
   "source": [
    "# 收盤價剛站上布林通道上緣\n",
    "df=data.get('price:收盤價')\n",
    "mean_20=df.rolling(20).mean()\n",
    "std_value=df.rolling(20).std()\n",
    "up=mean_20+std_value*2\n",
    "cond1=(df>up)&(df.shift()<up)\n",
    "cond2=(df>5)&(df<200)\n",
    "position=(cond1&cond2)\n",
    "position=position[position>0]\n",
    "position=position.is_smallest(20)"
   ]
  },
  {
   "cell_type": "code",
   "execution_count": null,
   "metadata": {},
   "outputs": [],
   "source": [
    "#均線多頭\n",
    "df=data.get('price:收盤價')\n",
    "df=df[(df.index>'2015')&(df.index<'2019')]\n",
    "cond1=df>df.rolling(5).mean()\n",
    "cond2=df>df.rolling(10,min_periods=5).mean()\n",
    "cond3=df>df.rolling(20,min_periods=10).mean()\n",
    "cond4=df>df.rolling(60,min_periods=40).mean()\n",
    "position=(df*(cond1&cond2&cond3&cond4))\n",
    "position=position[position>0]\n",
    "position=position.is_largest(10)"
   ]
  },
  {
   "cell_type": "code",
   "execution_count": null,
   "metadata": {},
   "outputs": [],
   "source": [
    "#股價創新高動能\n",
    "from finlab.backtest import sim\n",
    "close = data.get(\"price:收盤價\")\n",
    "roe = data.get(\"fundamental_features:ROE稅後\")\n",
    "\n",
    "position = (close == close.rolling(250).max())&roe>0\n",
    "\n",
    "report = sim(position, resample=\"M\", name=\"創年新高策略\")\n",
    "report.display()"
   ]
  },
  {
   "cell_type": "code",
   "execution_count": null,
   "metadata": {},
   "outputs": [],
   "source": [
    "#高 RSI 技術指標策略\n",
    "from finlab import data\n",
    "from finlab.backtest import sim\n",
    "#foreign_buy=data.get('institutional_investors_trading_summary:外陸資買賣超股數(不含外資自營商)')\n",
    "#foreign_cont=foreign_buy>0\n",
    "#increase=data.get('internal_equity_changes:董監增加股數')\n",
    "#cond7=increase>0\n",
    "roe = data.get(\"fundamental_features:ROE稅後\")\n",
    "# 選出 RSI 最大的 20 檔股票\n",
    "rsi = data.indicator('rsi')\n",
    "position = rsi.is_largest(40)\n",
    "# 回測，每週(W)調整一次\n",
    "report = sim(position, resample='W',, name=\"高RSI策略\")"
   ]
  },
  {
   "cell_type": "code",
   "execution_count": null,
   "metadata": {},
   "outputs": [],
   "source": [
    "#乖離率和財報濾網\n",
    "from finlab import data\n",
    "from finlab.backtest import sim\n",
    "# 下載 ROE 跟收盤價\n",
    "roe = data.get(\"fundamental_features:ROE稅後\")\n",
    "close = data.get(\"price:收盤價\")\n",
    "position = ((close / close.shift(60)).is_largest(30) & (roe > 0))\n",
    "# 回測，每月(M)調整一次\n",
    "report = sim(position, resample=\"M\", upload=False)\n",
    "report.display()\n",
    "from finlab import data\n",
    "from finlab.backtest import sim\n",
    "# 下載 ROE 跟收盤價\n",
    "roe = data.get(\"fundamental_features:ROE稅後\")\n",
    "close = data.get('price:收盤價')\n",
    "position = (\n",
    "      (close / close.shift(60)).is_largest(30) # 選出乖離率前 30 名的股票\n",
    "    & (roe > 0) # 選出 ROE 大於 0 的股票\n",
    ")\n",
    "\n",
    "# 回測，每月(M)調整一次\n",
    "report = sim(position, resample='M', name=\"乖離率和ROE濾網策略\")"
   ]
  },
  {
   "cell_type": "code",
   "execution_count": null,
   "metadata": {},
   "outputs": [],
   "source": [
    "#本益成長比策略\n",
    "from finlab import data\n",
    "from finlab.backtest import sim\n",
    "rev = data.get('monthly_revenue:當月營收')\n",
    "rev_ma3 = rev.average(3)\n",
    "rev_ma12 = rev.average(12)\n",
    "# 營收趨勢多頭策略\n",
    "cond1 = rev_ma3/rev_ma12 > 1.1\n",
    "cond2 = rev/rev.shift(1) > 0.9\n",
    "cond_all = cond1 & cond2\n",
    "pe = data.get('price_earning_ratio:本益比')\n",
    "營業利益成長率 = data.get('fundamental_features:營業利益成長率')\n",
    "# 本益成長比\n",
    "peg = (pe/營業利益成長率)\n",
    "# 本益成長比和原訊號相乘，若不持有則相乘後等於0\n",
    "position = peg*(cond_all)\n",
    "# 原訊號為0的不要選，若沒加這行且策略只選到7檔，之後還是會選3檔訊號為0(不持有)的補足10檔，執行這行就會排除訊號為0。\n",
    "position = position[position>0]\n",
    "# 選股挑本益成長比前10小的\n",
    "position = position.is_smallest(10)\n",
    "sim(position,resample=\"W\")"
   ]
  },
  {
   "cell_type": "code",
   "execution_count": null,
   "metadata": {},
   "outputs": [],
   "source": [
    "#小資族優等生策略\n",
    "from finlab import data\n",
    "from finlab.backtest import sim\n",
    "股本 = data.get('financial_statement:股本')\n",
    "price = data.get('price:收盤價')\n",
    "市值 = 股本 * price / 10 * 1000\n",
    "df1 = data.get('financial_statement:投資活動之淨現金流入_流出')\n",
    "df2 = data.get('financial_statement:營業活動之淨現金流入_流出')\n",
    "自由現金流 = (df1 + df2).rolling(4).mean()\n",
    "稅後淨利 = data.get('fundamental_features:經常稅後淨利')\n",
    "權益總計 = data.get('financial_statement:股東權益總額')\n",
    "股東權益報酬率 = 稅後淨利/ 權益總計\n",
    "營業利益成長率 = data.get('fundamental_features:營業利益成長率')\n",
    "當月營收 = data.get('monthly_revenue:當月營收')* 1000\n",
    "當季營收 = 當月營收.rolling(4).sum()\n",
    "市值營收比 = 市值 / 當季營收\n",
    "foreign_buy=data.get('institutional_investors_trading_summary:外陸資買賣超股數(不含外資自營商)')\n",
    "foreign_buy_t=foreign_buy.loc[foreign_buy.index[1:]]\n",
    "foreign_buy_tm1=foreign_buy.shift(1).loc[foreign_buy.index[1:]]\n",
    "foreign_buy_diff=foreign_buy_tm1-foreign_buy\n",
    "cond6=foreign_buy>0\n",
    "increase=data.get('internal_equity_changes:董監增加股數')\n",
    "cond7=increase>0\n",
    "rsi = data.indicator('rsi')\n",
    "rsi_con=rsi>75\n",
    "condition1 = (市值 >1e9)\n",
    "condition2 = 自由現金流 > 0\n",
    "condition3 = 股東權益報酬率 > 0\n",
    "condition4 = 營業利益成長率 > 0\n",
    "condition5 = 市值營收比 < 5\n",
    "position = condition1& condition2 & condition3 & condition4 & condition5 &cond7\n",
    "report = sim(position, resample='W', name=\"優等生策略\")\n",
    "report.display()"
   ]
  },
  {
   "cell_type": "code",
   "execution_count": null,
   "metadata": {},
   "outputs": [],
   "source": [
    "#多空對沖\n",
    "from finlab import data\n",
    "from finlab import backtest\n",
    "close = data.get('price:收盤價')\n",
    "position = close < 0\n",
    "position['2330'] = 0.5\n",
    "position['1101'] = -0.5\n",
    "report = backtest.sim(position, upload=False)\n",
    "report.display()\n",
    "from finlab import data\n",
    "from finlab import backtest\n",
    "pb = data.get('price_earning_ratio:股價淨值比')\n",
    "# 股價淨值比前20%低\n",
    "position = pb < pb.quantile_row(0.2)\n",
    "position /= position.sum(axis=1)\n",
    "# 多單總部位70%\n",
    "position *= 0.7\n",
    "# 空單總部位30%\n",
    "position['0050'] = -0.3\n",
    "report=backtest.sim( position, upload=False, resample='Q')\n",
    "report.display()"
   ]
  },
  {
   "cell_type": "code",
   "execution_count": null,
   "metadata": {},
   "outputs": [],
   "source": [
    "#營建產業限定策略\n",
    "from finlab import data\n",
    "from finlab.backtest import sim\n",
    "import pandas as pd\n",
    "# 限定回測產業範圍\n",
    "with data.universe(category='建材營造'):\n",
    "    # 資料引入\n",
    "    close = data.get('price:收盤價')\n",
    "    contract_debt = data.get('financial_statement:合約負債_流動')\n",
    "    contract_debt_gr = (contract_debt/(contract_debt.shift())-1)\n",
    "    equity = data.get('financial_statement:股本')\n",
    "    # 計算合約負債佔股本的比率，比率越高代表未來潛在貢獻每股營收越高\n",
    "    ce_ratio = (contract_debt / equity)\n",
    "    # 選股條件\n",
    "    cond1 = ce_ratio > 0.5\n",
    "    cond2 = (contract_debt_gr > 0.05) & (contract_debt_gr<0.5)\n",
    "    cond_all = cond1 & cond2\n",
    "    result = ce_ratio * (cond_all)\n",
    "    position = result[result > 0].is_largest(5)\n",
    "    # position_limit 限定單檔標的最多持有30%部位，避免標的數過少時產生重壓的非系統性風險\n",
    "    report = sim(position,resample='M',position_limit=0.3,stop_loss=0.1,fee_ratio=1.425/1000*0.3,name=\"營建股合約負債策略\",upload=False)\n",
    "\n",
    "report.display()"
   ]
  },
  {
   "cell_type": "code",
   "execution_count": null,
   "metadata": {},
   "outputs": [],
   "source": [
    "#營收動能\n",
    "from finlab import data\n",
    "from finlab.backtest import sim\n",
    "import pandas as pd\n",
    "rev = data.get(\"monthly_revenue:當月營收\")\n",
    "rev_rf = data.get(\"monthly_revenue:去年同月增減(%)\")\n",
    "vol = data.get(\"price:成交股數\")/1000\n",
    "rev_recent_3 = rev.rolling(3).sum()\n",
    "vol_avg = vol.average(10)\n",
    "cond1 = (rev_recent_3/rev_recent_3.rolling(24, min_periods=12).max())==1\n",
    "# 成交量條件，排除流動性過小\n",
    "cond2 = vol_avg > 300\n",
    "# 過濾全額交割股\n",
    "full_cash_delivery_stock_filter = data.get(\"etl:full_cash_delivery_stock_filter\")\n",
    "cond_all = cond1 & cond2 & full_cash_delivery_stock_filter \n",
    "result = rev_rf*(cond_all)\n",
    "position = result[result>0].is_largest(10).reindex(rev.index_str_to_date().index, method=\"ffill\")\n",
    "report = sim(position=position,stop_loss=0.3,position_limit=0.1)\n",
    "report.display()"
   ]
  },
  {
   "cell_type": "code",
   "execution_count": null,
   "metadata": {},
   "outputs": [],
   "source": [
    "#現金流量策略\n",
    "from finlab import data\n",
    "from finlab.backtest import sim\n",
    "營業現金流 = data.get(\"financial_statement:營業活動之淨現金流入_流出\").deadline()\n",
    "投資現金流 = data.get(\"financial_statement:投資活動之淨現金流入_流出\").deadline()\n",
    "融資現金流 = data.get(\"financial_statement:籌資活動之淨現金流入_流出\").deadline()\n",
    "roe = data.get(\"fundamental_features:ROE稅後\").deadline()\n",
    "close = data.get(\"price:收盤價\")\n",
    "position = (營業現金流 > 0) & (投資現金流 > 0) & (融資現金流 < 0) & (roe > 5) & (close > 10)\n",
    "from finlab import data\n",
    "from finlab.backtest import sim\n",
    "營業現金流 = data.get(\"financial_statement:營業活動之淨現金流入_流出\").deadline()\n",
    "投資現金流 = data.get(\"financial_statement:投資活動之淨現金流入_流出\").deadline()\n",
    "融資現金流 = data.get(\"financial_statement:籌資活動之淨現金流入_流出\").deadline()\n",
    "roe = data.get(\"fundamental_features:ROE稅後\").deadline()\n",
    "close = data.get(\"price:收盤價\")\n",
    "position = (營業現金流 > 0) & (投資現金流 > 0) & (融資現金流 < 0) & (roe > 0) & (close > 10)\n",
    "# 過濾 KY股\n",
    "sc = data.get(\"security_categories\")\n",
    "position_col = position.columns\n",
    "ky_filter = position_col[~position_col.isin(list(sc[sc[\"name\"].str.contains(\"KY\")][\"stock_id\"]))]\n",
    "position = position[ky_filter]\n",
    "report = sim(position,resample=\"M\",name=\"現金流正數\")\n",
    "report.display()"
   ]
  },
  {
   "cell_type": "code",
   "execution_count": null,
   "metadata": {},
   "outputs": [],
   "source": [
    "#大盤指標濾網\n",
    "from finlab import data\n",
    "from finlab.backtest import sim\n",
    "import numpy as np\n",
    "# 市場多空排列家數\n",
    "def ls_order_position(short=5,mid=10,long=30):\n",
    "    close = data.get(\"price:收盤價\")\n",
    "    short_ma = close.average(short)\n",
    "    mid_ma = close.average(mid)\n",
    "    long_ma = close.average(long)\n",
    "    long_order = (short_ma>=mid_ma) & (mid_ma>=long_ma)\n",
    "    long_order = long_order.sum(1)\n",
    "    short_order = (short_ma<mid_ma) & (mid_ma<long_ma)\n",
    "    short_order = short_order.sum(1)\n",
    "    entry = long_order > short_order\n",
    "    cond = ~close.isna()\n",
    "    position = cond & entry\n",
    "    return position\n",
    "close = data.get(\"price:收盤價\")\n",
    "sma20 = close.average(20)\n",
    "rev = data.get('monthly_revenue:當月營收')\n",
    "# 多頭排列\n",
    "cond1 = (close > close.shift(20)) & (close > close.shift(60))\n",
    "# 短期營收大於長期營收\n",
    "cond2 = (rev.average(3) > rev.average(12)).sustain(3)\n",
    "buy = cond1 & cond2\n",
    "sell = sma20 < sma20.shift()\n",
    "position = pd.DataFrame(np.nan, index=buy.index, columns=buy.columns)\n",
    "position[buy] = 1\n",
    "position[sell] = 0\n",
    "position = position.ffill().fillna(0).astype(bool)\n",
    "position = position & ls_order_position()\n",
    "report = sim(position, resample=\"D\", name=\"ls_order_position\")\n",
    "report.display()"
   ]
  },
  {
   "cell_type": "code",
   "execution_count": 12,
   "metadata": {},
   "outputs": [
    {
     "ename": "ValueError",
     "evalue": "too many values to unpack (expected 3)",
     "output_type": "error",
     "traceback": [
      "\u001b[1;31m---------------------------------------------------------------------------\u001b[0m",
      "\u001b[1;31mValueError\u001b[0m                                Traceback (most recent call last)",
      "Input \u001b[1;32mIn [12]\u001b[0m, in \u001b[0;36m<cell line: 5>\u001b[1;34m()\u001b[0m\n\u001b[0;32m      3\u001b[0m \u001b[38;5;28;01mfrom\u001b[39;00m \u001b[38;5;21;01mfinlab\u001b[39;00m\u001b[38;5;21;01m.\u001b[39;00m\u001b[38;5;21;01mbacktest\u001b[39;00m \u001b[38;5;28;01mimport\u001b[39;00m sim\n\u001b[0;32m      4\u001b[0m close\u001b[38;5;241m=\u001b[39mdata\u001b[38;5;241m.\u001b[39mget(\u001b[38;5;124m'\u001b[39m\u001b[38;5;124mprice:收盤價\u001b[39m\u001b[38;5;124m'\u001b[39m)\n\u001b[1;32m----> 5\u001b[0m upperband, middleband, lowerband \u001b[38;5;241m=\u001b[39m data\u001b[38;5;241m.\u001b[39mindicator(\u001b[38;5;124m'\u001b[39m\u001b[38;5;124mbbands\u001b[39m\u001b[38;5;124m'\u001b[39m, resample\u001b[38;5;241m=\u001b[39m\u001b[38;5;124m'\u001b[39m\u001b[38;5;124mD\u001b[39m\u001b[38;5;124m'\u001b[39m, nbdevup\u001b[38;5;241m=\u001b[39m\u001b[38;5;241m2.5\u001b[39m, nbdevdn\u001b[38;5;241m=\u001b[39m\u001b[38;5;241m2.5\u001b[39m, timeperiod\u001b[38;5;241m=\u001b[39m\u001b[38;5;241m40\u001b[39m)\n\u001b[0;32m      6\u001b[0m entries \u001b[38;5;241m=\u001b[39m lowerband \u001b[38;5;241m>\u001b[39m close\n\u001b[0;32m      7\u001b[0m exits \u001b[38;5;241m=\u001b[39m close \u001b[38;5;241m>\u001b[39m middleband\n",
      "\u001b[1;31mValueError\u001b[0m: too many values to unpack (expected 3)"
     ]
    }
   ],
   "source": [
    "#布林通道策略\n",
    "from finlab import data\n",
    "from finlab.backtest import sim\n",
    "close=data.get('price:收盤價')\n",
    "upperband, middleband, lowerband = data.indicator('bbands', resample='D', nbdevup=2.5, nbdevdn=2.5, timeperiod=40)\n",
    "entries = lowerband > close\n",
    "exits = close > middleband\n",
    "position = entries.hold_until(exits,nstocks_limit=100000,take_profit=0.1,stop_loss=0.15)['2330']\n",
    "report=sim(position, upload=True, mae_mfe_window=40, name='護國神山救難隊')"
   ]
  },
  {
   "cell_type": "code",
   "execution_count": 32,
   "metadata": {},
   "outputs": [
    {
     "ename": "NameError",
     "evalue": "name 'ROA綜合損益' is not defined",
     "output_type": "error",
     "traceback": [
      "\u001b[1;31m---------------------------------------------------------------------------\u001b[0m",
      "\u001b[1;31mNameError\u001b[0m                                 Traceback (most recent call last)",
      "Input \u001b[1;32mIn [32]\u001b[0m, in \u001b[0;36m<cell line: 14>\u001b[1;34m()\u001b[0m\n\u001b[0;32m     12\u001b[0m roe_trend \u001b[38;5;241m=\u001b[39m (ROE綜合損益\u001b[38;5;241m>\u001b[39m\u001b[38;5;241m0\u001b[39m)\u001b[38;5;241m.\u001b[39msustain(\u001b[38;5;241m4\u001b[39m)\n\u001b[0;32m     13\u001b[0m ROE綜合損益 \u001b[38;5;241m=\u001b[39m data\u001b[38;5;241m.\u001b[39mget(\u001b[38;5;124m\"\u001b[39m\u001b[38;5;124mfundamental_features:ROE綜合損益\u001b[39m\u001b[38;5;124m\"\u001b[39m)\n\u001b[1;32m---> 14\u001b[0m roa_trend \u001b[38;5;241m=\u001b[39m (\u001b[43mROA綜合損益\u001b[49m \u001b[38;5;241m>\u001b[39m \u001b[38;5;241m0\u001b[39m)\u001b[38;5;241m.\u001b[39msustain(\u001b[38;5;241m4\u001b[39m)\n\u001b[0;32m     17\u001b[0m position \u001b[38;5;241m=\u001b[39m (close \u001b[38;5;241m<\u001b[39m \u001b[38;5;241m10\u001b[39m) \u001b[38;5;241m&\u001b[39m roa_trend \u001b[38;5;241m&\u001b[39m roe_trend\n\u001b[0;32m     18\u001b[0m \u001b[38;5;66;03m# 回測，每月底(M)重新調整股票權重\u001b[39;00m\n",
      "\u001b[1;31mNameError\u001b[0m: name 'ROA綜合損益' is not defined"
     ]
    }
   ],
   "source": [
    "#小於六策略\n",
    "#from finlab import data\n",
    "from finlab import backtest\n",
    "# 只買入價格小於 6 元的股票\n",
    "close = data.get('price:收盤價')\n",
    "上月比較增減 = data.get(\"monthly_revenue:上月比較增減(%)\")\n",
    "rev_mm = 上月比較增減 > 30\n",
    "營業利益率 = data.get(\"fundamental_features:營業利益率\")\n",
    "opm_trend = (營業利益率>3).sustain(1)\n",
    "\n",
    "營業利益率 = data.get(\"fundamental_features:營業利益率\")\n",
    "roe_trend = (ROE綜合損益>0).sustain(4)\n",
    "ROE綜合損益 = data.get(\"fundamental_features:ROE綜合損益\")\n",
    "roa_trend = (ROA綜合損益 > 0).sustain(4)\n",
    "\n",
    "\n",
    "position = (close < 10) & roa_trend & roe_trend\n",
    "# 回測，每月底(M)重新調整股票權重\n",
    "report = backtest.sim(position, resample='M')\n"
   ]
  },
  {
   "cell_type": "code",
   "execution_count": null,
   "metadata": {},
   "outputs": [],
   "source": [
    "#本益成本比策略\n",
    "from finlab import data\n",
    "from finlab.backtest import sim\n",
    "pe = data.get('price_earning_ratio:本益比')\n",
    "rev=data.get('monthly_revenue:當月營收')\n",
    "rev_ma3=rev.average(3)\n",
    "rev_ma12=rev.average(12)\n",
    "營業利益成長率=data.get('fundamental_features:營業利益成長率').deadline()\n",
    "peg=(pe/營業利益成長率)\n",
    "cond1= rev_ma3/rev_ma12>1.1\n",
    "cond2=rev/rev.shift(1)>0.9\n",
    "cond_all=cond1 & cond2\n",
    "result=peg*(cond_all)\n",
    "position=result[result>0].is_smallest(10).reindex(rev.index_str_to_date().index, method='ffill')\n",
    "sim(position=position,resample=\"W\",fee_ratio=1.425/1000/3,stop_loss=0.1,name='本益成長比')"
   ]
  },
  {
   "cell_type": "code",
   "execution_count": null,
   "metadata": {},
   "outputs": [],
   "source": [
    "#股價淨值比策略\n",
    "from finlab import data\n",
    "from finlab import backtest\n",
    "收盤價 = data.get('price:收盤價')\n",
    "股價淨值比 = data.get(\"price_earning_ratio:股價淨值比\")\n",
    "# 條件 1\n",
    "收盤價大於五 = 收盤價 > 5\n",
    "# 條件 2\n",
    "季線 = 收盤價.rolling(60).mean()\n",
    "收盤價在季線之上 = 收盤價 > 季線\n",
    "# 條件 3\n",
    "總條件 = (收盤價 * 股價淨值比)[收盤價大於五&收盤價在季線之上].is_smallest(20)\n",
    "backtest.sim(總條件, resample='Q', live_performance_start='2021-01-01')"
   ]
  },
  {
   "cell_type": "code",
   "execution_count": null,
   "metadata": {},
   "outputs": [],
   "source": [
    "# 營收趨勢多頭策略\n",
    "from finlab import data\n",
    "from finlab.backtest import sim\n",
    "rev = data.get('monthly_revenue:當月營收')\n",
    "rev_ma3 = rev.average(3)\n",
    "rev_ma12 = rev.average(12)\n",
    "cond1 = rev_ma3/rev_ma12 > 1.1\n",
    "cond2 = rev/rev.shift(1) > 0.9\n",
    "cond_all = cond1 & cond2\n",
    "pe = data.get('price_earning_ratio:本益比')\n",
    "營業利益成長率 = data.get('fundamental_features:營業利益成長率')\n",
    "# 本益成長比\n",
    "peg = (pe/營業利益成長率)\n",
    "# 本益成長比和原訊號相乘，若不持有則相乘後等於0\n",
    "position = peg*(cond_all)\n",
    "# 原訊號為0的不要選，若沒加這行且策略只選到7檔，之後還是會選3檔訊號為0(不持有)的補足10檔，執行這行就會排除訊號為0。\n",
    "position = position[position>0]\n",
    "# 選股挑本益成長比前10小的\n",
    "position = position.is_smallest(10)"
   ]
  },
  {
   "cell_type": "code",
   "execution_count": null,
   "metadata": {},
   "outputs": [],
   "source": [
    "#肯特納通道突破策略\n",
    "from finlab.backtest import sim\n",
    "from finlab import data\n",
    "data.set_universe(market='TSE_OTC')\n",
    "adj_close = data.get('etl:adj_close').loc['2012':]\n",
    "ema_5=data.indicator('ema', adjust_price=True, resample='D',timeperiod=5)\n",
    "ema_10=data.indicator('ema', adjust_price=True, resample='D',timeperiod=10)\n",
    "ema_20=data.indicator('ema', adjust_price=True, resample='D',timeperiod=20)\n",
    "atr=data.indicator('atr', adjust_price=True, resample='D',timeperiod=10)\n",
    "keltner_up=ema_10+2*atr\n",
    "vol=data.get('price:成交股數')/1000\n",
    "vol_avg=vol.average(20)\n",
    "cond1 = (adj_close > keltner_up) & (adj_close.shift() < keltner_up.shift())\n",
    "cond2 = (ema_5 > ema_10) & (ema_10 > ema_20)\n",
    "cond3 = vol_avg > 100\n",
    "entries =  cond1 & cond2 & cond3\n",
    "exits = adj_close < keltner_up\n",
    "position = entries.hold_until(exits,nstocks_limit=20, rank=vol_avg)\n",
    "rr=sim(position,resample='W',position_limit=0.05)"
   ]
  },
  {
   "cell_type": "code",
   "execution_count": 24,
   "metadata": {},
   "outputs": [
    {
     "data": {
      "text/html": [
       "\n",
       "        <iframe\n",
       "            width=\"100%\"\n",
       "            height=\"600\"\n",
       "            src=\"https://ai.finlab.tw/strategy/?uid=oKw8thdXbIXI0kkOdLeDcxFTm0s2&sid=未命名\"\n",
       "            frameborder=\"0\"\n",
       "            allowfullscreen\n",
       "            \n",
       "        ></iframe>\n",
       "        "
      ],
      "text/plain": [
       "<IPython.lib.display.IFrame at 0x2a713632130>"
      ]
     },
     "metadata": {},
     "output_type": "display_data"
    }
   ],
   "source": [
    "#護國神山救難隊\n",
    "from finlab import data\n",
    "from finlab.backtest import sim\n",
    "close=data.get('price:收盤價')\n",
    "bbands= data.indicator('bbands', resample='D', nbdevup=2.5, nbdevdn=2.5,timeperiod=40)\n",
    "upperband=bbands[2]\n",
    "middleband=bbands[1]\n",
    "lowerband=bbands[0]\n",
    "price = data.get('price:收盤價')\n",
    "股本 = data.get('financial_statement:股本')\n",
    "price = data.get('price:收盤價')\n",
    "市值 = 股本 * price / 10 * 1000\n",
    "entries = (lowerband > close) & (市值.is_largest(100)) \n",
    "exits = close > middleband\n",
    "# 設定賣出條件\n",
    "position = entries.hold_until(exits)\n",
    "report = sim(position)"
   ]
  },
  {
   "cell_type": "code",
   "execution_count": null,
   "metadata": {},
   "outputs": [],
   "source": []
  },
  {
   "cell_type": "code",
   "execution_count": null,
   "metadata": {},
   "outputs": [],
   "source": []
  },
  {
   "cell_type": "code",
   "execution_count": null,
   "metadata": {},
   "outputs": [],
   "source": []
  },
  {
   "cell_type": "code",
   "execution_count": null,
   "metadata": {},
   "outputs": [],
   "source": [
    "#實戰應用(六)\n",
    "df1=data.get('fundamental_features:ROE稅後')\n"
   ]
  },
  {
   "cell_type": "code",
   "execution_count": null,
   "metadata": {},
   "outputs": [],
   "source": [
    "#實戰應用7\n",
    "total_value=data.get('dividend_tse:最近一次申報每股 (單位)淨值')*data.get('company_basic_info:已發行普通股數或TDR原發行股數')"
   ]
  },
  {
   "cell_type": "code",
   "execution_count": null,
   "metadata": {},
   "outputs": [],
   "source": [
    "'''\n",
    "條件一: 公司總市值 < 市場平均總市值\n",
    "\n",
    "條件二: 過去五年稅後淨利皆為正\n",
    "data.get('fundamental_features:經常稅後淨利')\n",
    "條件三: 過去三年稅後淨利成長率皆 >= 15%\n",
    "data.get('fundamental_features:經常稅後淨利').rise()>0.15.sustain(3) and \n",
    "\n",
    "條件四: 預估稅後淨利成長率 >= 15%\n",
    "data.get('fundamental_features:經常稅後淨利').sustain\n",
    "\n",
    "條件五: 近五年平均營運現金流量 > 近五年平均稅後淨利\n",
    "data.get('fundamental_features:每股現金流量')*股數>\n",
    "條件六: 近年營運現金流量 > 近年稅後淨利\n",
    "data.get('fundamental_features:每股現金流量')\n",
    "條件七: 近年營業利益率 >= 10%\n",
    "data.get('fundamental_features:營業利益率')>10%\n",
    "條件八: 近年可運用資本報酬率 >= 10%\n",
    "data.get('fundamental_features:ROA綜合損益')\n",
    "條件九: 最近一季負債/淨值比 < 50%\n",
    "data.get('fundamental_features:總負債除總淨值')\n",
    "條件十: 最近董監事持股比例 >= 20% 或是 最新一期董監事持股比例增加\n",
    "data.get('internal_equity_changes:董監持有股數占比')\n",
    "交易面條件\n",
    "\n",
    "條件十一: 預估本益比 <= 20\n",
    "\n",
    "條件十二: 預估本益比/預估稅後盈餘成長率比值 <= 1.2\n",
    "\n",
    "條件十三: 超額報酬(月) > 0\n",
    "https://medium.com/tej-api-%E9%87%91%E8%9E%8D%E8%B3%87%E6%96%99%E5%88%86%E6%9E%90/%E5%AF%A6%E6%88%B0%E6%87%89%E7%94%A8-%E4%B8%83-%E5%90%89%E5%A7%86-%E5%8F%B2%E8%90%8A%E7%89%B9-jim-slater-%E7%A5%96%E9%AD%AF%E5%8E%9F%E5%89%87%E6%8A%95%E8%B3%87%E6%B3%95-5de2c3c445c5\n",
    "'''"
   ]
  },
  {
   "cell_type": "code",
   "execution_count": null,
   "metadata": {},
   "outputs": [],
   "source": []
  },
  {
   "cell_type": "code",
   "execution_count": null,
   "metadata": {},
   "outputs": [],
   "source": []
  },
  {
   "cell_type": "code",
   "execution_count": null,
   "metadata": {},
   "outputs": [],
   "source": []
  },
  {
   "cell_type": "code",
   "execution_count": null,
   "metadata": {},
   "outputs": [],
   "source": []
  },
  {
   "cell_type": "code",
   "execution_count": null,
   "metadata": {},
   "outputs": [],
   "source": []
  },
  {
   "cell_type": "code",
   "execution_count": null,
   "metadata": {},
   "outputs": [],
   "source": []
  },
  {
   "cell_type": "code",
   "execution_count": null,
   "metadata": {},
   "outputs": [],
   "source": []
  },
  {
   "cell_type": "code",
   "execution_count": null,
   "metadata": {},
   "outputs": [],
   "source": []
  },
  {
   "cell_type": "code",
   "execution_count": null,
   "metadata": {},
   "outputs": [],
   "source": []
  },
  {
   "cell_type": "code",
   "execution_count": null,
   "metadata": {},
   "outputs": [],
   "source": []
  },
  {
   "cell_type": "code",
   "execution_count": null,
   "metadata": {},
   "outputs": [],
   "source": []
  },
  {
   "cell_type": "code",
   "execution_count": null,
   "metadata": {},
   "outputs": [],
   "source": []
  },
  {
   "cell_type": "code",
   "execution_count": null,
   "metadata": {},
   "outputs": [],
   "source": []
  },
  {
   "cell_type": "code",
   "execution_count": null,
   "metadata": {},
   "outputs": [],
   "source": []
  },
  {
   "cell_type": "code",
   "execution_count": null,
   "metadata": {},
   "outputs": [],
   "source": []
  },
  {
   "cell_type": "code",
   "execution_count": null,
   "metadata": {},
   "outputs": [],
   "source": []
  },
  {
   "cell_type": "code",
   "execution_count": null,
   "metadata": {},
   "outputs": [],
   "source": []
  }
 ],
 "metadata": {
  "kernelspec": {
   "display_name": "Python 3 (ipykernel)",
   "language": "python",
   "name": "python3"
  },
  "language_info": {
   "codemirror_mode": {
    "name": "ipython",
    "version": 3
   },
   "file_extension": ".py",
   "mimetype": "text/x-python",
   "name": "python",
   "nbconvert_exporter": "python",
   "pygments_lexer": "ipython3",
   "version": "3.9.12"
  },
  "vscode": {
   "interpreter": {
    "hash": "31f2aee4e71d21fbe5cf8b01ff0e069b9275f58929596ceb00d14d90e3e16cd6"
   }
  }
 },
 "nbformat": 4,
 "nbformat_minor": 2
}
